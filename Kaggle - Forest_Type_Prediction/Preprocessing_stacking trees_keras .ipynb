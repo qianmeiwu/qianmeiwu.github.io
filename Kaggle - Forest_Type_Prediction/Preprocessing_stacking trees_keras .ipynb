{
 "cells": [
  {
   "cell_type": "code",
   "execution_count": 1,
   "metadata": {},
   "outputs": [],
   "source": [
    "import pandas as pd\n",
    "import numpy as np\n",
    "import matplotlib.pyplot as plt\n",
    "import seaborn as sns\n",
    "%matplotlib inline\n"
   ]
  },
  {
   "cell_type": "code",
   "execution_count": 8,
   "metadata": {},
   "outputs": [],
   "source": [
    "from sklearn.ensemble import RandomForestClassifier,ExtraTreesClassifier,AdaBoostClassifier\n",
    "from lightgbm import LGBMClassifier\n",
    "from mlxtend.classifier import StackingCVClassifier\n",
    "from sklearn.linear_model import LogisticRegression\n",
    "from sklearn.model_selection import GridSearchCV\n",
    "import warnings\n",
    "warnings.simplefilter(action='ignore', category=FutureWarning)\n",
    "\n",
    "SEED = 2000"
   ]
  },
  {
   "cell_type": "code",
   "execution_count": null,
   "metadata": {},
   "outputs": [],
   "source": [
    "import xgboost as xgb\n",
    "from xgboost.sklearn import XGBClassifier"
   ]
  },
  {
   "cell_type": "code",
   "execution_count": 22,
   "metadata": {},
   "outputs": [],
   "source": [
    "from sklearn.model_selection import KFold, cross_val_score"
   ]
  },
  {
   "cell_type": "code",
   "execution_count": 31,
   "metadata": {},
   "outputs": [],
   "source": [
    "import time"
   ]
  },
  {
   "cell_type": "code",
   "execution_count": 2,
   "metadata": {},
   "outputs": [],
   "source": [
    "train = pd.read_csv('train.csv')\n",
    "test = pd.read_csv('test.csv')"
   ]
  },
  {
   "cell_type": "markdown",
   "metadata": {},
   "source": [
    "### Preprocessing"
   ]
  },
  {
   "cell_type": "code",
   "execution_count": 3,
   "metadata": {},
   "outputs": [],
   "source": [
    "# small functions\n",
    "\n",
    "def reverse_dummy(df_dummy):\n",
    "    x = df_dummy.stack()\n",
    "    return pd.Series(pd.Categorical(x[x!=0].index.get_level_values(1)))\n",
    "\n",
    "soils = [\n",
    "    [7, 15, 8, 14, 16, 17,\n",
    "     19, 20, 21, 23], #unknow and complex \n",
    "    [3, 4, 5, 10, 11, 13],   # rubbly\n",
    "    [6, 12],    # stony\n",
    "    [2, 9, 18, 26],      # very stony\n",
    "    [1, 24, 25, 27, 28, 29, 30,\n",
    "     31, 32, 33, 34, 36, 37, 38, \n",
    "     39, 40, 22, 35], # extremely stony and bouldery\n",
    "]\n",
    "\n",
    "\n",
    "soil_dict = dict()\n",
    "for index, values in enumerate(soils):\n",
    "    for v in values:\n",
    "        soil_dict[str(v)] = str(index)\n",
    "        \n",
    "def direction(x):\n",
    "    if (x >=0 and x < 22.5) or (x>=337.5 and x<=360) :\n",
    "        return 'N'\n",
    "    elif (x>=22.5 and x<67.5):\n",
    "        return 'NE'\n",
    "    elif (x>=67.5 and x<112.5):\n",
    "        return 'E'\n",
    "    elif (x>=112.5 and x<157.5):\n",
    "        return 'SE'\n",
    "    elif (x>=157.5 and x<202.5):\n",
    "        return 'S'\n",
    "    elif (x>=202.5 and x<247.5):\n",
    "        return 'SW'\n",
    "    elif (x>=247.5 and x<292.5):\n",
    "        return 'W'\n",
    "    elif (x>=292.5 and x<337.5):\n",
    "        return 'NW'"
   ]
  },
  {
   "cell_type": "markdown",
   "metadata": {},
   "source": [
    "##### Preprocessing 1 - keep most original features"
   ]
  },
  {
   "cell_type": "code",
   "execution_count": 5,
   "metadata": {},
   "outputs": [],
   "source": [
    "def preprocessing(df1):\n",
    "    df = df1.copy()\n",
    "    df['Wilderness_Area'] = reverse_dummy(df[['Wilderness_Area1', 'Wilderness_Area2', 'Wilderness_Area3','Wilderness_Area4']])\n",
    "    df['Soil_Type'] = reverse_dummy(df[['Soil_Type1', 'Soil_Type2', 'Soil_Type3',\n",
    "       'Soil_Type4', 'Soil_Type5', 'Soil_Type6', 'Soil_Type7', 'Soil_Type8',\n",
    "       'Soil_Type9', 'Soil_Type10', 'Soil_Type11', 'Soil_Type12',\n",
    "       'Soil_Type13', 'Soil_Type14', 'Soil_Type15', 'Soil_Type16',\n",
    "       'Soil_Type17', 'Soil_Type18', 'Soil_Type19', 'Soil_Type20',\n",
    "       'Soil_Type21', 'Soil_Type22', 'Soil_Type23', 'Soil_Type24',\n",
    "       'Soil_Type25', 'Soil_Type26', 'Soil_Type27', 'Soil_Type28',\n",
    "       'Soil_Type29', 'Soil_Type30', 'Soil_Type31', 'Soil_Type32',\n",
    "       'Soil_Type33', 'Soil_Type34', 'Soil_Type35', 'Soil_Type36',\n",
    "       'Soil_Type37', 'Soil_Type38', 'Soil_Type39', 'Soil_Type40']])\n",
    "    df.drop(['Wilderness_Area1', 'Wilderness_Area2', 'Wilderness_Area3',\n",
    "       'Wilderness_Area4','Soil_Type1', 'Soil_Type2', 'Soil_Type3',\n",
    "       'Soil_Type4', 'Soil_Type5', 'Soil_Type6', 'Soil_Type7', 'Soil_Type8',\n",
    "       'Soil_Type9', 'Soil_Type10', 'Soil_Type11', 'Soil_Type12',\n",
    "       'Soil_Type13', 'Soil_Type14', 'Soil_Type15', 'Soil_Type16',\n",
    "       'Soil_Type17', 'Soil_Type18', 'Soil_Type19', 'Soil_Type20',\n",
    "       'Soil_Type21', 'Soil_Type22', 'Soil_Type23', 'Soil_Type24',\n",
    "       'Soil_Type25', 'Soil_Type26', 'Soil_Type27', 'Soil_Type28',\n",
    "       'Soil_Type29', 'Soil_Type30', 'Soil_Type31', 'Soil_Type32',\n",
    "       'Soil_Type33', 'Soil_Type34', 'Soil_Type35', 'Soil_Type36',\n",
    "       'Soil_Type37', 'Soil_Type38', 'Soil_Type39', 'Soil_Type40'], axis = 1, inplace = True)\n",
    "    \n",
    "    df['Soil_num'] = df['Soil_Type'].apply(lambda x:x[9:])\n",
    "    \n",
    "    df['Stony'] = df['Soil_num'].map(soil_dict)\n",
    "  \n",
    "    df['Aspect_dir'] = df['Aspect'].apply(direction)\n",
    "    #y = df['Cover_Type']\n",
    "    df.drop(['Id','Aspect','Soil_num','Soil_Type'], axis = 1, inplace = True)\n",
    "    dumm = pd.get_dummies(df[['Wilderness_Area','Aspect_dir','Stony']])\n",
    "\n",
    "    df = pd.concat([df, dumm], axis = 1).drop(['Wilderness_Area','Aspect_dir','Stony'], axis = 1)\n",
    "    \n",
    "    return df"
   ]
  },
  {
   "cell_type": "markdown",
   "metadata": {},
   "source": [
    "##### Preprocessing 2 - create some new features (sum, diff, Ecl_dist etc.)"
   ]
  },
  {
   "cell_type": "code",
   "execution_count": 6,
   "metadata": {},
   "outputs": [],
   "source": [
    "def preprocessing2(df1):\n",
    "    '''Aspect sin and cos'''\n",
    "    df = df1.copy()\n",
    "    df['Wilderness_Area'] = reverse_dummy(df[['Wilderness_Area1', 'Wilderness_Area2', 'Wilderness_Area3','Wilderness_Area4']])\n",
    "    df['Soil_Type'] = reverse_dummy(df[['Soil_Type1', 'Soil_Type2', 'Soil_Type3',\n",
    "       'Soil_Type4', 'Soil_Type5', 'Soil_Type6', 'Soil_Type7', 'Soil_Type8',\n",
    "       'Soil_Type9', 'Soil_Type10', 'Soil_Type11', 'Soil_Type12',\n",
    "       'Soil_Type13', 'Soil_Type14', 'Soil_Type15', 'Soil_Type16',\n",
    "       'Soil_Type17', 'Soil_Type18', 'Soil_Type19', 'Soil_Type20',\n",
    "       'Soil_Type21', 'Soil_Type22', 'Soil_Type23', 'Soil_Type24',\n",
    "       'Soil_Type25', 'Soil_Type26', 'Soil_Type27', 'Soil_Type28',\n",
    "       'Soil_Type29', 'Soil_Type30', 'Soil_Type31', 'Soil_Type32',\n",
    "       'Soil_Type33', 'Soil_Type34', 'Soil_Type35', 'Soil_Type36',\n",
    "       'Soil_Type37', 'Soil_Type38', 'Soil_Type39', 'Soil_Type40']])\n",
    "    df.drop(['Wilderness_Area1', 'Wilderness_Area2', 'Wilderness_Area3',\n",
    "       'Wilderness_Area4','Soil_Type1', 'Soil_Type2', 'Soil_Type3',\n",
    "       'Soil_Type4', 'Soil_Type5', 'Soil_Type6', 'Soil_Type7', 'Soil_Type8',\n",
    "       'Soil_Type9', 'Soil_Type10', 'Soil_Type11', 'Soil_Type12',\n",
    "       'Soil_Type13', 'Soil_Type14', 'Soil_Type15', 'Soil_Type16',\n",
    "       'Soil_Type17', 'Soil_Type18', 'Soil_Type19', 'Soil_Type20',\n",
    "       'Soil_Type21', 'Soil_Type22', 'Soil_Type23', 'Soil_Type24',\n",
    "       'Soil_Type25', 'Soil_Type26', 'Soil_Type27', 'Soil_Type28',\n",
    "       'Soil_Type29', 'Soil_Type30', 'Soil_Type31', 'Soil_Type32',\n",
    "       'Soil_Type33', 'Soil_Type34', 'Soil_Type35', 'Soil_Type36',\n",
    "       'Soil_Type37', 'Soil_Type38', 'Soil_Type39', 'Soil_Type40'], axis = 1, inplace = True)\n",
    "    \n",
    "    df['Soil_num'] = df['Soil_Type'].apply(lambda x:x[9:])\n",
    "    \n",
    "    df['Stony'] = df['Soil_num'].map(soil_dict)\n",
    "    df[\"Aspect_dir\"] = df['Aspect'].apply(direction)\n",
    "    df['Aspect_sin'] = df['Aspect'].apply(lambda x: np.sin(x*np.pi/180))\n",
    "    df['Aspect_cos'] = df['Aspect'].apply(lambda x: np.cos(x*np.pi/180))\n",
    "    df['Aspect_arctan'] = df['Aspect_sin']/df['Aspect_cos']\n",
    "    df['Hydro_Ele_diff'] = df['Elevation'] - df['Vertical_Distance_To_Hydrology']\n",
    "    df['Hydro-Euclidean'] = np.sqrt(df['Horizontal_Distance_To_Hydrology']**2 +\n",
    "                                   df['Vertical_Distance_To_Hydrology']**2)\n",
    "    df['Hydro_Fire_sum'] = df['Horizontal_Distance_To_Hydrology']+df['Horizontal_Distance_To_Fire_Points']\n",
    "    df['Hydro_Fire_diff'] = df['Horizontal_Distance_To_Hydrology']-df['Horizontal_Distance_To_Fire_Points']\n",
    "    df['Hydro_Road_sum'] = df['Horizontal_Distance_To_Hydrology']+df['Horizontal_Distance_To_Roadways']\n",
    "                                                \n",
    "    #y = df['Cover_Type']\n",
    "    df.drop(['Id','Aspect','Soil_num','Soil_Type'], axis = 1, inplace = True)\n",
    "    dumm = pd.get_dummies(df[['Wilderness_Area','Aspect_dir','Stony']])\n",
    "\n",
    "    df = pd.concat([df, dumm], axis = 1).drop(['Wilderness_Area','Aspect_dir','Stony'], axis = 1)\n",
    "    \n",
    "    return df"
   ]
  },
  {
   "cell_type": "markdown",
   "metadata": {},
   "source": [
    "##### Preprocessing 3 - simplified version of 2 without Trigonometric"
   ]
  },
  {
   "cell_type": "code",
   "execution_count": 7,
   "metadata": {},
   "outputs": [],
   "source": [
    "def preprocessing3(df1):\n",
    "    \n",
    "    df = df1.copy()\n",
    "    df['Wilderness_Area'] = reverse_dummy(df[['Wilderness_Area1', 'Wilderness_Area2', 'Wilderness_Area3','Wilderness_Area4']])\n",
    "    df['Soil_Type'] = reverse_dummy(df[['Soil_Type1', 'Soil_Type2', 'Soil_Type3',\n",
    "       'Soil_Type4', 'Soil_Type5', 'Soil_Type6', 'Soil_Type7', 'Soil_Type8',\n",
    "       'Soil_Type9', 'Soil_Type10', 'Soil_Type11', 'Soil_Type12',\n",
    "       'Soil_Type13', 'Soil_Type14', 'Soil_Type15', 'Soil_Type16',\n",
    "       'Soil_Type17', 'Soil_Type18', 'Soil_Type19', 'Soil_Type20',\n",
    "       'Soil_Type21', 'Soil_Type22', 'Soil_Type23', 'Soil_Type24',\n",
    "       'Soil_Type25', 'Soil_Type26', 'Soil_Type27', 'Soil_Type28',\n",
    "       'Soil_Type29', 'Soil_Type30', 'Soil_Type31', 'Soil_Type32',\n",
    "       'Soil_Type33', 'Soil_Type34', 'Soil_Type35', 'Soil_Type36',\n",
    "       'Soil_Type37', 'Soil_Type38', 'Soil_Type39', 'Soil_Type40']])\n",
    "    df.drop(['Wilderness_Area1', 'Wilderness_Area2', 'Wilderness_Area3',\n",
    "       'Wilderness_Area4','Soil_Type1', 'Soil_Type2', 'Soil_Type3',\n",
    "       'Soil_Type4', 'Soil_Type5', 'Soil_Type6', 'Soil_Type7', 'Soil_Type8',\n",
    "       'Soil_Type9', 'Soil_Type10', 'Soil_Type11', 'Soil_Type12',\n",
    "       'Soil_Type13', 'Soil_Type14', 'Soil_Type15', 'Soil_Type16',\n",
    "       'Soil_Type17', 'Soil_Type18', 'Soil_Type19', 'Soil_Type20',\n",
    "       'Soil_Type21', 'Soil_Type22', 'Soil_Type23', 'Soil_Type24',\n",
    "       'Soil_Type25', 'Soil_Type26', 'Soil_Type27', 'Soil_Type28',\n",
    "       'Soil_Type29', 'Soil_Type30', 'Soil_Type31', 'Soil_Type32',\n",
    "       'Soil_Type33', 'Soil_Type34', 'Soil_Type35', 'Soil_Type36',\n",
    "       'Soil_Type37', 'Soil_Type38', 'Soil_Type39', 'Soil_Type40'], axis = 1, inplace = True)\n",
    "    \n",
    "    df['Soil_num'] = df['Soil_Type'].apply(lambda x:x[9:])\n",
    "    \n",
    "    df['Stony'] = df['Soil_num'].map(soil_dict)\n",
    "    df[\"Aspect_dir\"] = df['Aspect'].apply(direction)\n",
    "    df['Hydro_Ele_diff'] = df['Elevation'] - df['Vertical_Distance_To_Hydrology']\n",
    "    df['Hydro-Euclidean'] = np.sqrt(df['Horizontal_Distance_To_Hydrology']**2 +\n",
    "                                   df['Vertical_Distance_To_Hydrology']**2)\n",
    "    df['Hydro_Fire_sum'] = df['Horizontal_Distance_To_Hydrology']+df['Horizontal_Distance_To_Fire_Points']\n",
    "    df['Hydro_Fire_diff'] = df['Horizontal_Distance_To_Hydrology']-df['Horizontal_Distance_To_Fire_Points']\n",
    "    df['Hydro_Road_sum'] = df['Horizontal_Distance_To_Hydrology']+df['Horizontal_Distance_To_Roadways']\n",
    "                                                \n",
    "    #y = df['Cover_Type']\n",
    "    df.drop(['Id','Aspect','Soil_num','Soil_Type'], axis = 1, inplace = True)\n",
    "    dumm = pd.get_dummies(df[['Wilderness_Area','Aspect_dir','Stony']])\n",
    "\n",
    "    df = pd.concat([df, dumm], axis = 1).drop(['Wilderness_Area','Aspect_dir','Stony'], axis = 1)\n",
    "    \n",
    "    return df"
   ]
  },
  {
   "cell_type": "markdown",
   "metadata": {},
   "source": [
    "##### Precessing 4 - restore soil features "
   ]
  },
  {
   "cell_type": "code",
   "execution_count": 9,
   "metadata": {},
   "outputs": [],
   "source": [
    "def preprocessing4(df1, drop_soil = False, drop_num = False):\n",
    "    '''preserve soil type'''\n",
    "    df = df1.copy()\n",
    "    df['Soil_Type'] = reverse_dummy(df[['Soil_Type1', 'Soil_Type2', 'Soil_Type3',\n",
    "       'Soil_Type4', 'Soil_Type5', 'Soil_Type6', 'Soil_Type7', 'Soil_Type8',\n",
    "       'Soil_Type9', 'Soil_Type10', 'Soil_Type11', 'Soil_Type12',\n",
    "       'Soil_Type13', 'Soil_Type14', 'Soil_Type15', 'Soil_Type16',\n",
    "       'Soil_Type17', 'Soil_Type18', 'Soil_Type19', 'Soil_Type20',\n",
    "       'Soil_Type21', 'Soil_Type22', 'Soil_Type23', 'Soil_Type24',\n",
    "       'Soil_Type25', 'Soil_Type26', 'Soil_Type27', 'Soil_Type28',\n",
    "       'Soil_Type29', 'Soil_Type30', 'Soil_Type31', 'Soil_Type32',\n",
    "       'Soil_Type33', 'Soil_Type34', 'Soil_Type35', 'Soil_Type36',\n",
    "       'Soil_Type37', 'Soil_Type38', 'Soil_Type39', 'Soil_Type40']])\n",
    "    if drop_num == False:\n",
    "        \n",
    "        df['Soil_num'] = df['Soil_Type'].apply(lambda x:x[9:])\n",
    "    \n",
    "    df[\"Aspect_dir\"] = df['Aspect'].apply(direction)\n",
    "    df['Hydro_Ele_diff'] = df['Elevation'] - df['Vertical_Distance_To_Hydrology']\n",
    "    df['Hydro-Euclidean'] = np.sqrt(df['Horizontal_Distance_To_Hydrology']**2 +\n",
    "                                   df['Vertical_Distance_To_Hydrology']**2)\n",
    "    df['Hydro_Fire_sum'] = df['Horizontal_Distance_To_Hydrology']+df['Horizontal_Distance_To_Fire_Points']\n",
    "    df['Hydro_Fire_diff'] = df['Horizontal_Distance_To_Hydrology']-df['Horizontal_Distance_To_Fire_Points']\n",
    "    df['Hydro_Road_sum'] = df['Horizontal_Distance_To_Hydrology']+df['Horizontal_Distance_To_Roadways']\n",
    "                                                \n",
    "    df.drop(['Id','Aspect','Soil_Type'], axis = 1, inplace = True)\n",
    "    dumm = pd.get_dummies(df['Aspect_dir'])\n",
    "    df = pd.concat([df, dumm], axis = 1).drop(['Aspect_dir'], axis = 1)\n",
    "    if drop_soil:\n",
    "        df.drop(['Soil_Type1', 'Soil_Type2', 'Soil_Type3',\n",
    "       'Soil_Type4', 'Soil_Type5', 'Soil_Type6', 'Soil_Type7', 'Soil_Type8',\n",
    "       'Soil_Type9', 'Soil_Type10', 'Soil_Type11', 'Soil_Type12',\n",
    "       'Soil_Type13', 'Soil_Type14', 'Soil_Type15', 'Soil_Type16',\n",
    "       'Soil_Type17', 'Soil_Type18', 'Soil_Type19', 'Soil_Type20',\n",
    "       'Soil_Type21', 'Soil_Type22', 'Soil_Type23', 'Soil_Type24',\n",
    "       'Soil_Type25', 'Soil_Type26', 'Soil_Type27', 'Soil_Type28',\n",
    "       'Soil_Type29', 'Soil_Type30', 'Soil_Type31', 'Soil_Type32',\n",
    "       'Soil_Type33', 'Soil_Type34', 'Soil_Type35', 'Soil_Type36',\n",
    "       'Soil_Type37', 'Soil_Type38', 'Soil_Type39', 'Soil_Type40'], axis = 1, inplace = True)\n",
    "        return df\n",
    "    else:         \n",
    "        return df"
   ]
  },
  {
   "cell_type": "markdown",
   "metadata": {},
   "source": [
    "### Train-test preprocessing"
   ]
  },
  {
   "cell_type": "code",
   "execution_count": 5,
   "metadata": {},
   "outputs": [],
   "source": [
    "def choose_pp(m, *args, **args1):\n",
    "    X_train = m(train, *args, **args1).drop('Cover_Type', axis = 1)\n",
    "    y = train['Cover_Type'].astype('category')\n",
    "    X_test = m(test, *args, **args1)\n",
    "    X_train['Soil_num'] = X_train['Soil_num'].astype('int64')\n",
    "    X_test['Soil_num'] = X_test['Soil_num'].astype('int64')\n",
    "    return X_train, y, X_test"
   ]
  },
  {
   "cell_type": "code",
   "execution_count": 6,
   "metadata": {},
   "outputs": [
    {
     "name": "stdout",
     "output_type": "stream",
     "text": [
      "(15120, 67)\n",
      "(565892, 67)\n"
     ]
    }
   ],
   "source": [
    "X_train, y, X_test = choose_pp(preprocessing4, drop_soil = False, drop_num = False)\n",
    "print(X_train.shape)\n",
    "print(X_test.shape)"
   ]
  },
  {
   "cell_type": "markdown",
   "metadata": {},
   "source": [
    "##### treat cluster as dummies"
   ]
  },
  {
   "cell_type": "code",
   "execution_count": 113,
   "metadata": {},
   "outputs": [],
   "source": [
    "# X_train = pd.concat([X_train.drop(['Test_Cluster'], axis = 1),pd.get_dummies(X_train['Test_Cluster'])], axis = 1)\n",
    "# X_test = pd.concat([X_test.drop(['Test_Cluster'], axis = 1),pd.get_dummies(X_test['Test_Cluster'])], axis = 1)"
   ]
  },
  {
   "cell_type": "markdown",
   "metadata": {},
   "source": [
    "### Build tree models"
   ]
  },
  {
   "cell_type": "markdown",
   "metadata": {},
   "source": [
    "##### See feature importance with RandomForestClassifier"
   ]
  },
  {
   "cell_type": "code",
   "execution_count": 10,
   "metadata": {},
   "outputs": [],
   "source": [
    "rf = RandomForestClassifier(n_estimators=300,n_jobs=-1,max_features=8, random_state=SEED)\n",
    "\n",
    "def feature_importances(clf, X, y, edge, figsize=(18, 6)):\n",
    "    clf = clf.fit(X, y)\n",
    "    \n",
    "    importances = pd.DataFrame({'Features': X.columns, \n",
    "                                'Importances': clf.feature_importances_})\n",
    "    \n",
    "    importances.sort_values(by=['Importances'], axis='index', ascending=False, inplace=True)\n",
    "\n",
    "    fig = plt.figure(figsize=(10,10))\n",
    "    sns.barplot(x='Features', y='Importances', data=importances)\n",
    "    plt.xticks(rotation='vertical')\n",
    "\n",
    "    return importances\n",
    "\n",
    "def select(importances, edge):\n",
    "    c = importances.Importances >= edge\n",
    "    cols = importances[c].Features.values\n",
    "    return cols\n",
    "\n",
    "# select features"
   ]
  },
  {
   "cell_type": "code",
   "execution_count": 11,
   "metadata": {},
   "outputs": [
    {
     "data": {
      "image/png": "[encoded data removed]",
      "text/plain": [
       "<Figure size 720x720 with 1 Axes>"
      ]
     },
     "metadata": {
      "needs_background": "light"
     },
     "output_type": "display_data"
    }
   ],
   "source": [
    "importances = feature_importances(rf, X_train, y, edge = 0.01)"
   ]
  },
  {
   "cell_type": "code",
   "execution_count": 97,
   "metadata": {},
   "outputs": [
    {
     "data": {
      "text/html": [
       "<div>\n",
       "<style scoped>\n",
       "    .dataframe tbody tr th:only-of-type {\n",
       "        vertical-align: middle;\n",
       "    }\n",
       "\n",
       "    .dataframe tbody tr th {\n",
       "        vertical-align: top;\n",
       "    }\n",
       "\n",
       "    .dataframe thead th {\n",
       "        text-align: right;\n",
       "    }\n",
       "</style>\n",
       "<table border=\"1\" class=\"dataframe\">\n",
       "  <thead>\n",
       "    <tr style=\"text-align: right;\">\n",
       "      <th></th>\n",
       "      <th>Features</th>\n",
       "      <th>Importances</th>\n",
       "    </tr>\n",
       "  </thead>\n",
       "  <tbody>\n",
       "    <tr>\n",
       "      <th>0</th>\n",
       "      <td>Elevation</td>\n",
       "      <td>1.422162e-01</td>\n",
       "    </tr>\n",
       "    <tr>\n",
       "      <th>54</th>\n",
       "      <td>Hydro_Ele_diff</td>\n",
       "      <td>1.409258e-01</td>\n",
       "    </tr>\n",
       "    <tr>\n",
       "      <th>53</th>\n",
       "      <td>Soil_num</td>\n",
       "      <td>8.218473e-02</td>\n",
       "    </tr>\n",
       "    <tr>\n",
       "      <th>4</th>\n",
       "      <td>Horizontal_Distance_To_Roadways</td>\n",
       "      <td>5.319402e-02</td>\n",
       "    </tr>\n",
       "    <tr>\n",
       "      <th>58</th>\n",
       "      <td>Hydro_Road_sum</td>\n",
       "      <td>5.151533e-02</td>\n",
       "    </tr>\n",
       "    <tr>\n",
       "      <th>8</th>\n",
       "      <td>Horizontal_Distance_To_Fire_Points</td>\n",
       "      <td>4.080276e-02</td>\n",
       "    </tr>\n",
       "    <tr>\n",
       "      <th>55</th>\n",
       "      <td>Hydro-Euclidean</td>\n",
       "      <td>4.025964e-02</td>\n",
       "    </tr>\n",
       "    <tr>\n",
       "      <th>56</th>\n",
       "      <td>Hydro_Fire_sum</td>\n",
       "      <td>4.012041e-02</td>\n",
       "    </tr>\n",
       "    <tr>\n",
       "      <th>57</th>\n",
       "      <td>Hydro_Fire_diff</td>\n",
       "      <td>3.735447e-02</td>\n",
       "    </tr>\n",
       "    <tr>\n",
       "      <th>5</th>\n",
       "      <td>Hillshade_9am</td>\n",
       "      <td>3.727275e-02</td>\n",
       "    </tr>\n",
       "    <tr>\n",
       "      <th>2</th>\n",
       "      <td>Horizontal_Distance_To_Hydrology</td>\n",
       "      <td>3.375695e-02</td>\n",
       "    </tr>\n",
       "    <tr>\n",
       "      <th>3</th>\n",
       "      <td>Vertical_Distance_To_Hydrology</td>\n",
       "      <td>3.228969e-02</td>\n",
       "    </tr>\n",
       "    <tr>\n",
       "      <th>7</th>\n",
       "      <td>Hillshade_3pm</td>\n",
       "      <td>2.976841e-02</td>\n",
       "    </tr>\n",
       "    <tr>\n",
       "      <th>6</th>\n",
       "      <td>Hillshade_Noon</td>\n",
       "      <td>2.960713e-02</td>\n",
       "    </tr>\n",
       "    <tr>\n",
       "      <th>12</th>\n",
       "      <td>Wilderness_Area4</td>\n",
       "      <td>2.852274e-02</td>\n",
       "    </tr>\n",
       "    <tr>\n",
       "      <th>1</th>\n",
       "      <td>Slope</td>\n",
       "      <td>2.222740e-02</td>\n",
       "    </tr>\n",
       "    <tr>\n",
       "      <th>15</th>\n",
       "      <td>Soil_Type3</td>\n",
       "      <td>1.526417e-02</td>\n",
       "    </tr>\n",
       "    <tr>\n",
       "      <th>22</th>\n",
       "      <td>Soil_Type10</td>\n",
       "      <td>1.465672e-02</td>\n",
       "    </tr>\n",
       "    <tr>\n",
       "      <th>9</th>\n",
       "      <td>Wilderness_Area1</td>\n",
       "      <td>1.419992e-02</td>\n",
       "    </tr>\n",
       "    <tr>\n",
       "      <th>11</th>\n",
       "      <td>Wilderness_Area3</td>\n",
       "      <td>1.325645e-02</td>\n",
       "    </tr>\n",
       "    <tr>\n",
       "      <th>50</th>\n",
       "      <td>Soil_Type38</td>\n",
       "      <td>8.769140e-03</td>\n",
       "    </tr>\n",
       "    <tr>\n",
       "      <th>51</th>\n",
       "      <td>Soil_Type39</td>\n",
       "      <td>8.270463e-03</td>\n",
       "    </tr>\n",
       "    <tr>\n",
       "      <th>16</th>\n",
       "      <td>Soil_Type4</td>\n",
       "      <td>7.445020e-03</td>\n",
       "    </tr>\n",
       "    <tr>\n",
       "      <th>61</th>\n",
       "      <td>NE</td>\n",
       "      <td>4.962813e-03</td>\n",
       "    </tr>\n",
       "    <tr>\n",
       "      <th>42</th>\n",
       "      <td>Soil_Type30</td>\n",
       "      <td>4.687119e-03</td>\n",
       "    </tr>\n",
       "    <tr>\n",
       "      <th>64</th>\n",
       "      <td>SE</td>\n",
       "      <td>4.140310e-03</td>\n",
       "    </tr>\n",
       "    <tr>\n",
       "      <th>62</th>\n",
       "      <td>NW</td>\n",
       "      <td>4.110397e-03</td>\n",
       "    </tr>\n",
       "    <tr>\n",
       "      <th>60</th>\n",
       "      <td>N</td>\n",
       "      <td>3.887245e-03</td>\n",
       "    </tr>\n",
       "    <tr>\n",
       "      <th>52</th>\n",
       "      <td>Soil_Type40</td>\n",
       "      <td>3.645588e-03</td>\n",
       "    </tr>\n",
       "    <tr>\n",
       "      <th>59</th>\n",
       "      <td>E</td>\n",
       "      <td>3.643718e-03</td>\n",
       "    </tr>\n",
       "    <tr>\n",
       "      <th>...</th>\n",
       "      <td>...</td>\n",
       "      <td>...</td>\n",
       "    </tr>\n",
       "    <tr>\n",
       "      <th>14</th>\n",
       "      <td>Soil_Type2</td>\n",
       "      <td>2.709647e-03</td>\n",
       "    </tr>\n",
       "    <tr>\n",
       "      <th>44</th>\n",
       "      <td>Soil_Type32</td>\n",
       "      <td>2.504404e-03</td>\n",
       "    </tr>\n",
       "    <tr>\n",
       "      <th>66</th>\n",
       "      <td>W</td>\n",
       "      <td>2.194014e-03</td>\n",
       "    </tr>\n",
       "    <tr>\n",
       "      <th>45</th>\n",
       "      <td>Soil_Type33</td>\n",
       "      <td>2.064546e-03</td>\n",
       "    </tr>\n",
       "    <tr>\n",
       "      <th>65</th>\n",
       "      <td>SW</td>\n",
       "      <td>1.972635e-03</td>\n",
       "    </tr>\n",
       "    <tr>\n",
       "      <th>10</th>\n",
       "      <td>Wilderness_Area2</td>\n",
       "      <td>1.901778e-03</td>\n",
       "    </tr>\n",
       "    <tr>\n",
       "      <th>18</th>\n",
       "      <td>Soil_Type6</td>\n",
       "      <td>1.850175e-03</td>\n",
       "    </tr>\n",
       "    <tr>\n",
       "      <th>23</th>\n",
       "      <td>Soil_Type11</td>\n",
       "      <td>1.837090e-03</td>\n",
       "    </tr>\n",
       "    <tr>\n",
       "      <th>36</th>\n",
       "      <td>Soil_Type24</td>\n",
       "      <td>1.354207e-03</td>\n",
       "    </tr>\n",
       "    <tr>\n",
       "      <th>43</th>\n",
       "      <td>Soil_Type31</td>\n",
       "      <td>1.207639e-03</td>\n",
       "    </tr>\n",
       "    <tr>\n",
       "      <th>32</th>\n",
       "      <td>Soil_Type20</td>\n",
       "      <td>9.839293e-04</td>\n",
       "    </tr>\n",
       "    <tr>\n",
       "      <th>13</th>\n",
       "      <td>Soil_Type1</td>\n",
       "      <td>9.262862e-04</td>\n",
       "    </tr>\n",
       "    <tr>\n",
       "      <th>17</th>\n",
       "      <td>Soil_Type5</td>\n",
       "      <td>7.816669e-04</td>\n",
       "    </tr>\n",
       "    <tr>\n",
       "      <th>47</th>\n",
       "      <td>Soil_Type35</td>\n",
       "      <td>7.187462e-04</td>\n",
       "    </tr>\n",
       "    <tr>\n",
       "      <th>28</th>\n",
       "      <td>Soil_Type16</td>\n",
       "      <td>5.513711e-04</td>\n",
       "    </tr>\n",
       "    <tr>\n",
       "      <th>30</th>\n",
       "      <td>Soil_Type18</td>\n",
       "      <td>4.204137e-04</td>\n",
       "    </tr>\n",
       "    <tr>\n",
       "      <th>26</th>\n",
       "      <td>Soil_Type14</td>\n",
       "      <td>3.455014e-04</td>\n",
       "    </tr>\n",
       "    <tr>\n",
       "      <th>38</th>\n",
       "      <td>Soil_Type26</td>\n",
       "      <td>2.466385e-04</td>\n",
       "    </tr>\n",
       "    <tr>\n",
       "      <th>31</th>\n",
       "      <td>Soil_Type19</td>\n",
       "      <td>2.118526e-04</td>\n",
       "    </tr>\n",
       "    <tr>\n",
       "      <th>46</th>\n",
       "      <td>Soil_Type34</td>\n",
       "      <td>1.658054e-04</td>\n",
       "    </tr>\n",
       "    <tr>\n",
       "      <th>48</th>\n",
       "      <td>Soil_Type36</td>\n",
       "      <td>8.990557e-05</td>\n",
       "    </tr>\n",
       "    <tr>\n",
       "      <th>33</th>\n",
       "      <td>Soil_Type21</td>\n",
       "      <td>8.921674e-05</td>\n",
       "    </tr>\n",
       "    <tr>\n",
       "      <th>39</th>\n",
       "      <td>Soil_Type27</td>\n",
       "      <td>7.669294e-05</td>\n",
       "    </tr>\n",
       "    <tr>\n",
       "      <th>49</th>\n",
       "      <td>Soil_Type37</td>\n",
       "      <td>7.368399e-05</td>\n",
       "    </tr>\n",
       "    <tr>\n",
       "      <th>21</th>\n",
       "      <td>Soil_Type9</td>\n",
       "      <td>6.745821e-05</td>\n",
       "    </tr>\n",
       "    <tr>\n",
       "      <th>40</th>\n",
       "      <td>Soil_Type28</td>\n",
       "      <td>6.325640e-05</td>\n",
       "    </tr>\n",
       "    <tr>\n",
       "      <th>37</th>\n",
       "      <td>Soil_Type25</td>\n",
       "      <td>7.767054e-06</td>\n",
       "    </tr>\n",
       "    <tr>\n",
       "      <th>20</th>\n",
       "      <td>Soil_Type8</td>\n",
       "      <td>3.744322e-07</td>\n",
       "    </tr>\n",
       "    <tr>\n",
       "      <th>19</th>\n",
       "      <td>Soil_Type7</td>\n",
       "      <td>0.000000e+00</td>\n",
       "    </tr>\n",
       "    <tr>\n",
       "      <th>27</th>\n",
       "      <td>Soil_Type15</td>\n",
       "      <td>0.000000e+00</td>\n",
       "    </tr>\n",
       "  </tbody>\n",
       "</table>\n",
       "<p>67 rows × 2 columns</p>\n",
       "</div>"
      ],
      "text/plain": [
       "                              Features   Importances\n",
       "0                            Elevation  1.422162e-01\n",
       "54                      Hydro_Ele_diff  1.409258e-01\n",
       "53                            Soil_num  8.218473e-02\n",
       "4      Horizontal_Distance_To_Roadways  5.319402e-02\n",
       "58                      Hydro_Road_sum  5.151533e-02\n",
       "8   Horizontal_Distance_To_Fire_Points  4.080276e-02\n",
       "55                     Hydro-Euclidean  4.025964e-02\n",
       "56                      Hydro_Fire_sum  4.012041e-02\n",
       "57                     Hydro_Fire_diff  3.735447e-02\n",
       "5                        Hillshade_9am  3.727275e-02\n",
       "2     Horizontal_Distance_To_Hydrology  3.375695e-02\n",
       "3       Vertical_Distance_To_Hydrology  3.228969e-02\n",
       "7                        Hillshade_3pm  2.976841e-02\n",
       "6                       Hillshade_Noon  2.960713e-02\n",
       "12                    Wilderness_Area4  2.852274e-02\n",
       "1                                Slope  2.222740e-02\n",
       "15                          Soil_Type3  1.526417e-02\n",
       "22                         Soil_Type10  1.465672e-02\n",
       "9                     Wilderness_Area1  1.419992e-02\n",
       "11                    Wilderness_Area3  1.325645e-02\n",
       "50                         Soil_Type38  8.769140e-03\n",
       "51                         Soil_Type39  8.270463e-03\n",
       "16                          Soil_Type4  7.445020e-03\n",
       "61                                  NE  4.962813e-03\n",
       "42                         Soil_Type30  4.687119e-03\n",
       "64                                  SE  4.140310e-03\n",
       "62                                  NW  4.110397e-03\n",
       "60                                   N  3.887245e-03\n",
       "52                         Soil_Type40  3.645588e-03\n",
       "59                                   E  3.643718e-03\n",
       "..                                 ...           ...\n",
       "14                          Soil_Type2  2.709647e-03\n",
       "44                         Soil_Type32  2.504404e-03\n",
       "66                                   W  2.194014e-03\n",
       "45                         Soil_Type33  2.064546e-03\n",
       "65                                  SW  1.972635e-03\n",
       "10                    Wilderness_Area2  1.901778e-03\n",
       "18                          Soil_Type6  1.850175e-03\n",
       "23                         Soil_Type11  1.837090e-03\n",
       "36                         Soil_Type24  1.354207e-03\n",
       "43                         Soil_Type31  1.207639e-03\n",
       "32                         Soil_Type20  9.839293e-04\n",
       "13                          Soil_Type1  9.262862e-04\n",
       "17                          Soil_Type5  7.816669e-04\n",
       "47                         Soil_Type35  7.187462e-04\n",
       "28                         Soil_Type16  5.513711e-04\n",
       "30                         Soil_Type18  4.204137e-04\n",
       "26                         Soil_Type14  3.455014e-04\n",
       "38                         Soil_Type26  2.466385e-04\n",
       "31                         Soil_Type19  2.118526e-04\n",
       "46                         Soil_Type34  1.658054e-04\n",
       "48                         Soil_Type36  8.990557e-05\n",
       "33                         Soil_Type21  8.921674e-05\n",
       "39                         Soil_Type27  7.669294e-05\n",
       "49                         Soil_Type37  7.368399e-05\n",
       "21                          Soil_Type9  6.745821e-05\n",
       "40                         Soil_Type28  6.325640e-05\n",
       "37                         Soil_Type25  7.767054e-06\n",
       "20                          Soil_Type8  3.744322e-07\n",
       "19                          Soil_Type7  0.000000e+00\n",
       "27                         Soil_Type15  0.000000e+00\n",
       "\n",
       "[67 rows x 2 columns]"
      ]
     },
     "execution_count": 97,
     "metadata": {},
     "output_type": "execute_result"
    }
   ],
   "source": [
    "importances"
   ]
  },
  {
   "cell_type": "code",
   "execution_count": 19,
   "metadata": {},
   "outputs": [
    {
     "data": {
      "text/plain": [
       "array(['Elevation', 'Hydro_Ele_diff', 'Soil_num',\n",
       "       'Horizontal_Distance_To_Roadways', 'Hydro_Road_sum',\n",
       "       'Horizontal_Distance_To_Fire_Points', 'Hydro-Euclidean',\n",
       "       'Hydro_Fire_sum', 'Hydro_Fire_diff', 'Hillshade_9am',\n",
       "       'Horizontal_Distance_To_Hydrology',\n",
       "       'Vertical_Distance_To_Hydrology', 'Hillshade_3pm',\n",
       "       'Hillshade_Noon', 'Wilderness_Area4', 'Slope', 'Soil_Type3',\n",
       "       'Soil_Type10', 'Wilderness_Area1', 'Wilderness_Area3'],\n",
       "      dtype=object)"
      ]
     },
     "execution_count": 19,
     "metadata": {},
     "output_type": "execute_result"
    }
   ],
   "source": [
    "cols"
   ]
  },
  {
   "cell_type": "markdown",
   "metadata": {},
   "source": [
    "#### Hyperparameter Tuning for tree models"
   ]
  },
  {
   "cell_type": "markdown",
   "metadata": {},
   "source": [
    "- Random Forest"
   ]
  },
  {
   "cell_type": "code",
   "execution_count": 36,
   "metadata": {},
   "outputs": [
    {
     "name": "stdout",
     "output_type": "stream",
     "text": [
      "Fitting 5 folds for each of 9 candidates, totalling 45 fits\n"
     ]
    },
    {
     "name": "stderr",
     "output_type": "stream",
     "text": [
      "[Parallel(n_jobs=-1)]: Using backend LokyBackend with 8 concurrent workers.\n",
      "[Parallel(n_jobs=-1)]: Done  45 out of  45 | elapsed:  3.0min finished\n"
     ]
    },
    {
     "name": "stdout",
     "output_type": "stream",
     "text": [
      "--- 213.5564422607422 seconds ---\n"
     ]
    }
   ],
   "source": [
    "# random forest \n",
    "\n",
    "start_time = time.time()\n",
    "param_grid = {'n_estimators':[200,370,500],'max_features':['auto','sqrt','log2']} # [6, 8, 10]\n",
    "rfr = RandomForestClassifier(random_state=SEED, oob_score = True)# , n_estimators=370)\n",
    "grid_rf = GridSearchCV(estimator=rfr, param_grid=param_grid, n_jobs=-1, cv=5, scoring='accuracy',verbose=1)\n",
    "grid_rf.fit(X_train, y)\n",
    "\n",
    "print(\"--- %s seconds ---\" % (time.time() - start_time))\n",
    "# model.best_score_\n",
    "\n",
    "# import sklearn\n",
    "\n",
    "# # sorted(sklearn.metrics.SCORERS.keys())"
   ]
  },
  {
   "cell_type": "code",
   "execution_count": 49,
   "metadata": {},
   "outputs": [
    {
     "name": "stdout",
     "output_type": "stream",
     "text": [
      "[{'max_features': 'auto', 'n_estimators': 200}, {'max_features': 'auto', 'n_estimators': 370}, {'max_features': 'auto', 'n_estimators': 500}, {'max_features': 'sqrt', 'n_estimators': 200}, {'max_features': 'sqrt', 'n_estimators': 370}, {'max_features': 'sqrt', 'n_estimators': 500}, {'max_features': 'log2', 'n_estimators': 200}, {'max_features': 'log2', 'n_estimators': 370}, {'max_features': 'log2', 'n_estimators': 500}]\n",
      "[0.80443122 0.80529101 0.80707672 0.80443122 0.80529101 0.80707672\n",
      " 0.80238095 0.80277778 0.80304233]\n",
      "{'max_features': 'auto', 'n_estimators': 500} 0.8070767195767196\n"
     ]
    },
    {
     "data": {
      "text/plain": [
       "RandomForestClassifier(bootstrap=True, class_weight=None, criterion='gini',\n",
       "                       max_depth=None, max_features='auto', max_leaf_nodes=None,\n",
       "                       min_impurity_decrease=0.0, min_impurity_split=None,\n",
       "                       min_samples_leaf=1, min_samples_split=2,\n",
       "                       min_weight_fraction_leaf=0.0, n_estimators=500,\n",
       "                       n_jobs=None, oob_score=True, random_state=2000,\n",
       "                       verbose=0, warm_start=False)"
      ]
     },
     "execution_count": 49,
     "metadata": {},
     "output_type": "execute_result"
    }
   ],
   "source": [
    "print(grid_rf.cv_results_['params'])\n",
    "print(grid_rf.cv_results_['mean_test_score'])\n",
    "print(grid_rf.best_params_, grid_rf.best_score_)\n",
    "grid_rf.best_estimator_"
   ]
  },
  {
   "cell_type": "markdown",
   "metadata": {},
   "source": [
    "- LGBM"
   ]
  },
  {
   "cell_type": "code",
   "execution_count": 47,
   "metadata": {},
   "outputs": [
    {
     "name": "stdout",
     "output_type": "stream",
     "text": [
      "Fitting 5 folds for each of 12 candidates, totalling 60 fits\n"
     ]
    },
    {
     "name": "stderr",
     "output_type": "stream",
     "text": [
      "[Parallel(n_jobs=-1)]: Using backend LokyBackend with 8 concurrent workers.\n",
      "[Parallel(n_jobs=-1)]: Done  34 tasks      | elapsed:  4.5min\n",
      "[Parallel(n_jobs=-1)]: Done  60 out of  60 | elapsed:  9.0min finished\n"
     ]
    },
    {
     "name": "stdout",
     "output_type": "stream",
     "text": [
      "--- 589.1868331432343 seconds ---\n"
     ]
    }
   ],
   "source": [
    "# LGBM\n",
    "\n",
    "start_time = time.time()\n",
    "param_grid = {'n_estimators':[200,370,500],'num_leaves':[50,80,100,200]} \n",
    "lgbm = LGBMClassifier(random_state=SEED, metric = 'multi_logloss', n_jobs = -1, verbosity=0)\n",
    "grid_lg = GridSearchCV(estimator=lgbm, param_grid=param_grid, n_jobs=-1, cv=5, scoring='accuracy',verbose=1)\n",
    "grid_lg.fit(X_train, y)\n",
    "\n",
    "print(\"--- %s seconds ---\" % (time.time() - start_time))"
   ]
  },
  {
   "cell_type": "code",
   "execution_count": 48,
   "metadata": {},
   "outputs": [
    {
     "name": "stdout",
     "output_type": "stream",
     "text": [
      "[{'n_estimators': 200, 'num_leaves': 50}, {'n_estimators': 200, 'num_leaves': 80}, {'n_estimators': 200, 'num_leaves': 100}, {'n_estimators': 200, 'num_leaves': 200}, {'n_estimators': 370, 'num_leaves': 50}, {'n_estimators': 370, 'num_leaves': 80}, {'n_estimators': 370, 'num_leaves': 100}, {'n_estimators': 370, 'num_leaves': 200}, {'n_estimators': 500, 'num_leaves': 50}, {'n_estimators': 500, 'num_leaves': 80}, {'n_estimators': 500, 'num_leaves': 100}, {'n_estimators': 500, 'num_leaves': 200}]\n",
      "[0.80059524 0.8082672  0.8114418  0.81263228 0.80787037 0.81117725\n",
      " 0.81488095 0.81388889 0.81031746 0.81349206 0.81521164 0.81342593]\n",
      "{'n_estimators': 500, 'num_leaves': 100} 0.8152116402116402\n"
     ]
    },
    {
     "data": {
      "text/plain": [
       "LGBMClassifier(boosting_type='gbdt', class_weight=None, colsample_bytree=1.0,\n",
       "               importance_type='split', learning_rate=0.1, max_depth=-1,\n",
       "               metric='multi_logloss', min_child_samples=20,\n",
       "               min_child_weight=0.001, min_split_gain=0.0, n_estimators=500,\n",
       "               n_jobs=-1, num_leaves=100, objective=None, random_state=2000,\n",
       "               reg_alpha=0.0, reg_lambda=0.0, silent=True, subsample=1.0,\n",
       "               subsample_for_bin=200000, subsample_freq=0, verbosity=0)"
      ]
     },
     "execution_count": 48,
     "metadata": {},
     "output_type": "execute_result"
    }
   ],
   "source": [
    "print(grid_lg.cv_results_['params'])\n",
    "print(grid_lg.cv_results_['mean_test_score'])\n",
    "print(grid_lg.best_params_, grid_lg.best_score_)\n",
    "grid_lg.best_estimator_"
   ]
  },
  {
   "cell_type": "markdown",
   "metadata": {},
   "source": [
    "- Extra Tree"
   ]
  },
  {
   "cell_type": "code",
   "execution_count": 50,
   "metadata": {},
   "outputs": [
    {
     "name": "stdout",
     "output_type": "stream",
     "text": [
      "Fitting 5 folds for each of 3 candidates, totalling 15 fits\n"
     ]
    },
    {
     "name": "stderr",
     "output_type": "stream",
     "text": [
      "[Parallel(n_jobs=-1)]: Using backend LokyBackend with 8 concurrent workers.\n",
      "[Parallel(n_jobs=-1)]: Done  15 out of  15 | elapsed:   53.9s finished\n"
     ]
    },
    {
     "name": "stdout",
     "output_type": "stream",
     "text": [
      "--- 59.14327049255371 seconds ---\n"
     ]
    }
   ],
   "source": [
    "# Extra Tree\n",
    "\n",
    "ExtraTreesClassifier( \n",
    "           n_estimators=450, n_jobs=-1,\n",
    "           oob_score=False, random_state=SEED, \n",
    "           warm_start=True)\n",
    "            \n",
    "start_time = time.time()\n",
    "param_grid = {'n_estimators':[350,450,550]} \n",
    "etree = ExtraTreesClassifier(n_jobs=-1, random_state=SEED,warm_start=True)\n",
    "grid_et = GridSearchCV(estimator=etree, param_grid=param_grid, n_jobs=-1, cv=5, scoring='accuracy',verbose=1)\n",
    "grid_et.fit(X_train, y)\n",
    "\n",
    "print(\"--- %s seconds ---\" % (time.time() - start_time))"
   ]
  },
  {
   "cell_type": "code",
   "execution_count": 51,
   "metadata": {},
   "outputs": [
    {
     "name": "stdout",
     "output_type": "stream",
     "text": [
      "[{'n_estimators': 350}, {'n_estimators': 450}, {'n_estimators': 550}]\n",
      "[0.80046296 0.80145503 0.80112434]\n",
      "{'n_estimators': 450} 0.8014550264550264\n"
     ]
    },
    {
     "data": {
      "text/plain": [
       "ExtraTreesClassifier(bootstrap=False, class_weight=None, criterion='gini',\n",
       "                     max_depth=None, max_features='auto', max_leaf_nodes=None,\n",
       "                     min_impurity_decrease=0.0, min_impurity_split=None,\n",
       "                     min_samples_leaf=1, min_samples_split=2,\n",
       "                     min_weight_fraction_leaf=0.0, n_estimators=450, n_jobs=-1,\n",
       "                     oob_score=False, random_state=2000, verbose=0,\n",
       "                     warm_start=True)"
      ]
     },
     "execution_count": 51,
     "metadata": {},
     "output_type": "execute_result"
    }
   ],
   "source": [
    "print(grid_et.cv_results_['params'])\n",
    "print(grid_et.cv_results_['mean_test_score'])\n",
    "print(grid_et.best_params_, grid_et.best_score_)\n",
    "grid_et.best_estimator_"
   ]
  },
  {
   "cell_type": "markdown",
   "metadata": {},
   "source": [
    "- XGBoost"
   ]
  },
  {
   "cell_type": "code",
   "execution_count": 57,
   "metadata": {},
   "outputs": [],
   "source": [
    "X_train['Soil_num'] = X_train['Soil_num'].astype('int64')"
   ]
  },
  {
   "cell_type": "code",
   "execution_count": 78,
   "metadata": {},
   "outputs": [
    {
     "name": "stdout",
     "output_type": "stream",
     "text": [
      "Fitting 2 folds for each of 12 candidates, totalling 24 fits\n"
     ]
    },
    {
     "name": "stderr",
     "output_type": "stream",
     "text": [
      "[Parallel(n_jobs=-1)]: Using backend LokyBackend with 8 concurrent workers.\n",
      "[Parallel(n_jobs=-1)]: Done  24 out of  24 | elapsed:  2.4min finished\n"
     ]
    },
    {
     "name": "stdout",
     "output_type": "stream",
     "text": [
      "--- 202.5768826007843 seconds ---\n"
     ]
    }
   ],
   "source": [
    "# tuning for max_depth and min_child_weight\n",
    "          \n",
    "start_time = time.time()\n",
    "param_grid ={'max_depth':range(3,10,2),'min_child_weight':range(1,6,2)}\n",
    "xgb = XGBClassifier(n_jobs=-1, gamma=0, subsample=0.8,colsample_bytree=0.8, \n",
    "                    objective= 'multi:softprob',num_class = 7,seed=SEED)\n",
    "grid_xgb = GridSearchCV(estimator=xgb, param_grid=param_grid, n_jobs=-1, cv=2, scoring='accuracy',verbose=1)\n",
    "grid_xgb.fit(X_train, y)\n",
    "\n",
    "print(\"--- %s seconds ---\" % (time.time() - start_time))"
   ]
  },
  {
   "cell_type": "code",
   "execution_count": 80,
   "metadata": {},
   "outputs": [
    {
     "data": {
      "text/plain": [
       "{'max_depth': 9, 'min_child_weight': 1}"
      ]
     },
     "execution_count": 80,
     "metadata": {},
     "output_type": "execute_result"
    }
   ],
   "source": [
    "grid_xgb.best_params_"
   ]
  },
  {
   "cell_type": "code",
   "execution_count": 82,
   "metadata": {},
   "outputs": [
    {
     "name": "stdout",
     "output_type": "stream",
     "text": [
      "Fitting 2 folds for each of 5 candidates, totalling 10 fits\n"
     ]
    },
    {
     "name": "stderr",
     "output_type": "stream",
     "text": [
      "[Parallel(n_jobs=-1)]: Using backend LokyBackend with 8 concurrent workers.\n",
      "[Parallel(n_jobs=-1)]: Done   6 out of  10 | elapsed:   56.1s remaining:   37.4s\n",
      "[Parallel(n_jobs=-1)]: Done  10 out of  10 | elapsed:  1.4min finished\n"
     ]
    },
    {
     "name": "stdout",
     "output_type": "stream",
     "text": [
      "--- 140.84376740455627 seconds ---\n"
     ]
    }
   ],
   "source": [
    "# tuning for gamma\n",
    "\n",
    "start_time = time.time()\n",
    "param_grid ={'gamma':[i/10.0 for i in range(0,5)]}\n",
    "xgb2 = XGBClassifier(n_jobs=-1,max_depth=9, min_child_weight=1, subsample=0.8,colsample_bytree=0.8, \n",
    "                    objective= 'multi:softprob',num_class = 7,seed=SEED)\n",
    "grid_xgb2 = GridSearchCV(estimator=xgb2, param_grid=param_grid, n_jobs=-1, cv=2, scoring='accuracy',verbose=1)\n",
    "grid_xgb2.fit(X_train, y)\n",
    "\n",
    "print(\"--- %s seconds ---\" % (time.time() - start_time))"
   ]
  },
  {
   "cell_type": "code",
   "execution_count": 83,
   "metadata": {},
   "outputs": [
    {
     "data": {
      "text/plain": [
       "{'gamma': 0.0}"
      ]
     },
     "execution_count": 83,
     "metadata": {},
     "output_type": "execute_result"
    }
   ],
   "source": [
    "grid_xgb2.best_params_"
   ]
  },
  {
   "cell_type": "code",
   "execution_count": 84,
   "metadata": {},
   "outputs": [
    {
     "name": "stdout",
     "output_type": "stream",
     "text": [
      "Fitting 2 folds for each of 16 candidates, totalling 32 fits\n"
     ]
    },
    {
     "name": "stderr",
     "output_type": "stream",
     "text": [
      "[Parallel(n_jobs=-1)]: Using backend LokyBackend with 8 concurrent workers.\n",
      "[Parallel(n_jobs=-1)]: Done  32 out of  32 | elapsed:  4.4min finished\n"
     ]
    },
    {
     "name": "stdout",
     "output_type": "stream",
     "text": [
      "--- 314.0500228404999 seconds ---\n"
     ]
    }
   ],
   "source": [
    "# tuning for subsample/colsample_bytree\n",
    "\n",
    "start_time = time.time()\n",
    "param_grid ={'subsample':[i/10.0 for i in range(6,10)],\n",
    "             'colsample_bytree':[i/10.0 for i in range(6,10)]}\n",
    "xgb3 = XGBClassifier(n_jobs=-1,max_depth=9,gamma=0, min_child_weight=1, \n",
    "                    objective= 'multi:softprob',num_class = 7,seed=SEED)\n",
    "grid_xgb3 = GridSearchCV(estimator=xgb3, param_grid=param_grid, n_jobs=-1, cv=2, scoring='accuracy',verbose=1)\n",
    "grid_xgb3.fit(X_train, y)\n",
    "\n",
    "print(\"--- %s seconds ---\" % (time.time() - start_time))"
   ]
  },
  {
   "cell_type": "code",
   "execution_count": 86,
   "metadata": {},
   "outputs": [
    {
     "data": {
      "text/plain": [
       "{'colsample_bytree': 0.7, 'subsample': 0.8}"
      ]
     },
     "execution_count": 86,
     "metadata": {},
     "output_type": "execute_result"
    }
   ],
   "source": [
    "grid_xgb3.best_params_"
   ]
  },
  {
   "cell_type": "code",
   "execution_count": 89,
   "metadata": {},
   "outputs": [
    {
     "name": "stdout",
     "output_type": "stream",
     "text": [
      "Fitting 2 folds for each of 5 candidates, totalling 10 fits\n"
     ]
    },
    {
     "name": "stderr",
     "output_type": "stream",
     "text": [
      "[Parallel(n_jobs=-1)]: Using backend LokyBackend with 8 concurrent workers.\n",
      "[Parallel(n_jobs=-1)]: Done   6 out of  10 | elapsed:   54.3s remaining:   36.2s\n",
      "[Parallel(n_jobs=-1)]: Done  10 out of  10 | elapsed:  1.4min finished\n"
     ]
    },
    {
     "name": "stdout",
     "output_type": "stream",
     "text": [
      "--- 129.75389695167542 seconds ---\n"
     ]
    }
   ],
   "source": [
    "# tuning for penalty param\n",
    "\n",
    "start_time = time.time()\n",
    "param_grid ={'reg_alpha':[0, 0.001, 0.005, 0.01, 0.05]}\n",
    "xgb4 = XGBClassifier(n_jobs=-1,max_depth=9,gamma=0, min_child_weight=1,\n",
    "                     subsample = 0.8, colsample_bytree = 0.7,\n",
    "                     objective= 'multi:softprob',num_class = 7,seed=SEED)\n",
    "grid_xgb4 = GridSearchCV(estimator=xgb4, param_grid=param_grid, n_jobs=-1, cv=2, scoring='accuracy',verbose=1)\n",
    "grid_xgb4.fit(X_train, y)\n",
    "\n",
    "print(\"--- %s seconds ---\" % (time.time() - start_time))"
   ]
  },
  {
   "cell_type": "code",
   "execution_count": 90,
   "metadata": {},
   "outputs": [
    {
     "data": {
      "text/plain": [
       "{'reg_alpha': 0.001}"
      ]
     },
     "execution_count": 90,
     "metadata": {},
     "output_type": "execute_result"
    }
   ],
   "source": [
    "grid_xgb4.best_params_"
   ]
  },
  {
   "cell_type": "code",
   "execution_count": 92,
   "metadata": {},
   "outputs": [
    {
     "data": {
      "text/plain": [
       "array([0.8489418 , 0.84563492])"
      ]
     },
     "execution_count": 92,
     "metadata": {},
     "output_type": "execute_result"
    }
   ],
   "source": [
    "# xgb1 = XGBClassifier(\n",
    "#  learning_rate=0.1,\n",
    "#  n_estimators=500,\n",
    "#  min_child_weight=1,\n",
    "#  gamma=0,\n",
    "#  subsample=0.8,\n",
    "#  colsample_bytree=0.7,\n",
    "#  objective= 'multi:softprob',\n",
    "#  reg_alpha=0.001,\n",
    "#  num_class =7,\n",
    "#  max_depth=9,\n",
    "#  seed=SEED)\n",
    "# xgb1.fit(X_train, y)\n",
    "\n",
    "# cv = KFold(n_splits=2, shuffle=True, random_state=SEED)\n",
    "# cv_results = cross_val_score(xgb1, X_train, y,\n",
    "#                              cv=cv, \n",
    "#                              scoring='accuracy')\n",
    "# cv_results  \n",
    "# results not as good as other methods"
   ]
  },
  {
   "cell_type": "markdown",
   "metadata": {},
   "source": [
    "##### Tree models summary"
   ]
  },
  {
   "cell_type": "code",
   "execution_count": 100,
   "metadata": {},
   "outputs": [],
   "source": [
    "models = {\n",
    "    'LGBM': LGBMClassifier(n_estimators=500,  \n",
    "                           num_leaves=100,\n",
    "                           random_state=SEED, \n",
    "                           metric = 'multi_logloss', \n",
    "                           n_jobs = -1, \n",
    "                           verbosity=0), \n",
    "    'Random Forest': RandomForestClassifier(n_estimators = 500, \n",
    "                                            max_features= 'auto',\n",
    "                                            random_state=SEED, \n",
    "                                            oob_score = True, \n",
    "                                            n_jobs=-1),\n",
    "    'Extra Tree': ExtraTreesClassifier(n_estimators = 450, \n",
    "                                       n_jobs=-1, \n",
    "                                       random_state=SEED,\n",
    "                                       warm_start=True),\n",
    "    'XGBoost': XGBClassifier(learning_rate=0.1,\n",
    "                             n_estimators=200,\n",
    "                             min_child_weight=1,\n",
    "                             gamma=0,\n",
    "                             subsample=0.8,\n",
    "                             colsample_bytree=0.7,\n",
    "                             objective= 'multi:softprob',\n",
    "                             reg_alpha=0.001,\n",
    "                             num_class =7,\n",
    "                             max_depth=9,\n",
    "                             seed=SEED)\n",
    "#     'Logistic Regression': LogisticRegression(\n",
    "#         random_state=SEED,solver = 'newton-cg', multi_class='multinomial',n_jobs=-1)\n",
    "\n",
    "}"
   ]
  },
  {
   "cell_type": "code",
   "execution_count": 12,
   "metadata": {},
   "outputs": [],
   "source": [
    "# without XGB cv results worse than others and long time to train\n",
    "\n",
    "models_slim = {\n",
    "    'LGBM': LGBMClassifier(n_estimators=500,  \n",
    "                           num_leaves=100,\n",
    "                           random_state=SEED, \n",
    "                           metric = 'multi_logloss', \n",
    "                           n_jobs = -1, \n",
    "                           verbosity=0), \n",
    "    'Random Forest': RandomForestClassifier(n_estimators = 500, \n",
    "                                            max_features= 'auto',\n",
    "                                            random_state=SEED, \n",
    "                                            oob_score = True, \n",
    "                                            n_jobs=-1),\n",
    "    'Extra Tree': ExtraTreesClassifier(n_estimators = 450, \n",
    "                                       n_jobs=-1, \n",
    "                                       random_state=SEED,\n",
    "                                       warm_start=True)}"
   ]
  },
  {
   "cell_type": "markdown",
   "metadata": {},
   "source": [
    "### Cross Validations"
   ]
  },
  {
   "cell_type": "code",
   "execution_count": 24,
   "metadata": {},
   "outputs": [],
   "source": [
    "# cross validation\n",
    "# model selection functions\n",
    "\n",
    "cv = KFold(n_splits=5, shuffle=True, random_state=SEED)"
   ]
  },
  {
   "cell_type": "code",
   "execution_count": 25,
   "metadata": {},
   "outputs": [],
   "source": [
    "def cross_val(models, X, y=y):\n",
    "    r = dict()\n",
    "    for name, model in models.items():\n",
    "        cv_results = cross_val_score(model, X, y,\n",
    "                             cv=cv, \n",
    "                             scoring='accuracy')\n",
    "        r[name] = cv_results\n",
    "        print(name, 'Accuracy Mean {0:.4f}, Std {1:.4f}'.format(\n",
    "              cv_results.mean(), cv_results.std()))\n",
    "    return r\n",
    "    \n"
   ]
  },
  {
   "cell_type": "code",
   "execution_count": 98,
   "metadata": {},
   "outputs": [],
   "source": [
    "# see if edge affects performance\n",
    "def cv_features(edge):\n",
    "    col = select(importances, edge)\n",
    "    print(f'edge is:{edge}')\n",
    "    results = cross_val(models, X=X_train[col], y = y)  \n",
    "    return results"
   ]
  },
  {
   "cell_type": "code",
   "execution_count": 238,
   "metadata": {},
   "outputs": [],
   "source": [
    "# for edge in np.linspace(0.01,0.04,4):\n",
    "#     cv_features(edge)"
   ]
  },
  {
   "cell_type": "code",
   "execution_count": 102,
   "metadata": {},
   "outputs": [
    {
     "name": "stdout",
     "output_type": "stream",
     "text": [
      "edge is:0.01\n",
      "LGBM Accuracy Mean 0.8860, Std 0.0059\n",
      "Random Forest Accuracy Mean 0.8802, Std 0.0073\n",
      "Extra Tree Accuracy Mean 0.8947, Std 0.0053\n",
      "XGBoost Accuracy Mean 0.8813, Std 0.0053\n"
     ]
    }
   ],
   "source": [
    "results = cv_features(0.01)"
   ]
  },
  {
   "cell_type": "markdown",
   "metadata": {},
   "source": [
    "### Ensemble - model stacking "
   ]
  },
  {
   "cell_type": "code",
   "execution_count": 14,
   "metadata": {},
   "outputs": [],
   "source": [
    "def choose_best(results):\n",
    "    errors = dict()\n",
    "\n",
    "    for name, arr in results.items():\n",
    "        errors[name] = arr.mean()\n",
    "\n",
    "    best_model =  [m for m, e in errors.items() \n",
    "                   if e == max(errors.values())][0]\n",
    "    return best_model"
   ]
  },
  {
   "cell_type": "code",
   "execution_count": 123,
   "metadata": {},
   "outputs": [],
   "source": [
    "best_model_name = choose_best(results)\n",
    "best_model = models_slim[best_model_name] # changed models\n",
    "\n",
    "estimators = [m for m in models_slim.values()]\n",
    "stack = StackingCVClassifier(classifiers=estimators,\n",
    "                             meta_classifier=best_model,\n",
    "                             cv=cv,\n",
    "                             use_probas=True,\n",
    "                             use_features_in_secondary=True,\n",
    "                             verbose=1,\n",
    "                             random_state=SEED,\n",
    "                             n_jobs=-1)"
   ]
  },
  {
   "cell_type": "markdown",
   "metadata": {},
   "source": [
    "### Predict and auto-save"
   ]
  },
  {
   "cell_type": "code",
   "execution_count": 30,
   "metadata": {},
   "outputs": [],
   "source": [
    "Id = test['Id']\n",
    "\n",
    "def predict(model, filename, X, y, test):\n",
    "    model.fit(X, y)\n",
    "    predicts = model.predict(test)\n",
    "\n",
    "    output = pd.DataFrame({'Id': Id,\n",
    "                       'Cover_Type': predicts})\n",
    "    output.to_csv(filename+'.csv', index=False)\n",
    "    return predicts"
   ]
  },
  {
   "cell_type": "code",
   "execution_count": 124,
   "metadata": {},
   "outputs": [
    {
     "name": "stdout",
     "output_type": "stream",
     "text": [
      "Fitting 3 classifiers...\n",
      "Fitting classifier1: lgbmclassifier (1/3)\n"
     ]
    },
    {
     "name": "stderr",
     "output_type": "stream",
     "text": [
      "[Parallel(n_jobs=-1)]: Using backend LokyBackend with 8 concurrent workers.\n",
      "[Parallel(n_jobs=-1)]: Done   2 out of   5 | elapsed:  1.3min remaining:  1.9min\n",
      "[Parallel(n_jobs=-1)]: Done   5 out of   5 | elapsed:  1.3min finished\n",
      "[Parallel(n_jobs=-1)]: Using backend LokyBackend with 8 concurrent workers.\n"
     ]
    },
    {
     "name": "stdout",
     "output_type": "stream",
     "text": [
      "Fitting classifier2: randomforestclassifier (2/3)\n"
     ]
    },
    {
     "name": "stderr",
     "output_type": "stream",
     "text": [
      "[Parallel(n_jobs=-1)]: Done   2 out of   5 | elapsed:   23.4s remaining:   35.1s\n",
      "[Parallel(n_jobs=-1)]: Done   5 out of   5 | elapsed:   30.0s finished\n",
      "[Parallel(n_jobs=-1)]: Using backend LokyBackend with 8 concurrent workers.\n"
     ]
    },
    {
     "name": "stdout",
     "output_type": "stream",
     "text": [
      "Fitting classifier3: extratreesclassifier (3/3)\n"
     ]
    },
    {
     "name": "stderr",
     "output_type": "stream",
     "text": [
      "[Parallel(n_jobs=-1)]: Done   2 out of   5 | elapsed:   12.5s remaining:   18.9s\n",
      "[Parallel(n_jobs=-1)]: Done   5 out of   5 | elapsed:   12.9s finished\n"
     ]
    },
    {
     "name": "stdout",
     "output_type": "stream",
     "text": [
      "--- 950.7610619068146 seconds ---\n"
     ]
    }
   ],
   "source": [
    "col = select(importances, edge=0.01)\n",
    "start_time = time.time()\n",
    "predict_stack = predict(stack, 'submission10', X_train[col], y=y, test = X_test[col])\n",
    "print(\"--- %s seconds ---\" % (time.time() - start_time))"
   ]
  },
  {
   "cell_type": "code",
   "execution_count": 128,
   "metadata": {},
   "outputs": [],
   "source": [
    "# estimators2 = [m for m in models.values()]\n",
    "# stack2 = StackingCVClassifier(classifiers=estimators2,\n",
    "#                              meta_classifier=best_model,\n",
    "#                              cv=cv,\n",
    "#                              use_probas=True,\n",
    "#                              use_features_in_secondary=True,\n",
    "#                              verbose=0,\n",
    "#                              random_state=SEED,\n",
    "#                              n_jobs=-1)\n",
    "# predict_stack2 = predict(stack2, 'submission11', X_train[col].as_matrix(), y=y, test = X_test[col].as_matrix())\n",
    "# start_time = time.time()\n",
    "# print(\"--- %s seconds ---\" % (time.time() - start_time))"
   ]
  },
  {
   "cell_type": "code",
   "execution_count": 131,
   "metadata": {},
   "outputs": [],
   "source": [
    "# submission 6 without clustering features/put soil_num as numerical and other soil features, does not make sense but works\n",
    "# 0.82388\n",
    "# predict_stack = predict(stack, 'submission6', X = X_train[col], y=y, test = X_test[col])\n",
    "# print('Ready!')"
   ]
  },
  {
   "cell_type": "code",
   "execution_count": 130,
   "metadata": {},
   "outputs": [],
   "source": [
    "# without clustering features/put soil_num as numerical but no other soil features\n",
    "#0.82174\n",
    "# predict_stack = predict(stack, 'submission8', X = X_train_s, y=y, test = X_test[col])\n",
    "# print('Ready!')"
   ]
  },
  {
   "cell_type": "code",
   "execution_count": 129,
   "metadata": {},
   "outputs": [],
   "source": [
    "# # put soil_type, remove soil_num, no clustering info\n",
    "# 0.81120\n",
    "# predict_stack = predict(stack, 'submission7', X = X_train_s, y=y, test = X_test[col])\n",
    "# print('Ready!')"
   ]
  },
  {
   "cell_type": "markdown",
   "metadata": {},
   "source": [
    "### Optional - Adding features learned from test dataset"
   ]
  },
  {
   "cell_type": "code",
   "execution_count": 15,
   "metadata": {},
   "outputs": [
    {
     "data": {
      "text/plain": [
       "GaussianMixture(covariance_type='full', init_params='kmeans', max_iter=100,\n",
       "                means_init=None, n_components=10, n_init=1,\n",
       "                precisions_init=None, random_state=None, reg_covar=1e-06,\n",
       "                tol=0.001, verbose=0, verbose_interval=10, warm_start=False,\n",
       "                weights_init=None)"
      ]
     },
     "execution_count": 15,
     "metadata": {},
     "output_type": "execute_result"
    }
   ],
   "source": [
    "from sklearn.mixture import GaussianMixture\n",
    "gmix = GaussianMixture(n_components=10)\n",
    "gmix.fit(X_test)"
   ]
  },
  {
   "cell_type": "code",
   "execution_count": 16,
   "metadata": {},
   "outputs": [],
   "source": [
    "X_train2 = X_train.copy()\n",
    "X_test2 = X_test.copy()\n",
    "X_train2['Test_Cluster'] = gmix.predict(X_train2)\n",
    "X_test2['Test_Cluster'] = gmix.predict(X_test2)"
   ]
  },
  {
   "cell_type": "code",
   "execution_count": 18,
   "metadata": {},
   "outputs": [
    {
     "data": {
      "image/png": "[encoded data removed]",
      "text/plain": [
       "<Figure size 720x720 with 1 Axes>"
      ]
     },
     "metadata": {
      "needs_background": "light"
     },
     "output_type": "display_data"
    }
   ],
   "source": [
    "importances2 = feature_importances(rf, X = X_train2, y = y, edge = 0.01)\n",
    "# col2 = select(importances2,0.01)"
   ]
  },
  {
   "cell_type": "code",
   "execution_count": 26,
   "metadata": {},
   "outputs": [
    {
     "name": "stdout",
     "output_type": "stream",
     "text": [
      "LGBM Accuracy Mean 0.8896, Std 0.0056\n",
      "Random Forest Accuracy Mean 0.8813, Std 0.0055\n",
      "Extra Tree Accuracy Mean 0.8963, Std 0.0028\n"
     ]
    }
   ],
   "source": [
    "results2 = cross_val(models_slim, X=X_train2[select(importances2,0.01)], y = y)  "
   ]
  },
  {
   "cell_type": "code",
   "execution_count": 27,
   "metadata": {},
   "outputs": [],
   "source": [
    "best_model_name2= choose_best(results2)\n",
    "model2 = models_slim[best_model_name2]"
   ]
  },
  {
   "cell_type": "code",
   "execution_count": 28,
   "metadata": {},
   "outputs": [],
   "source": [
    "estimators = [m for m in models_slim.values()]\n",
    "\n",
    "stack2 = StackingCVClassifier(classifiers=estimators,\n",
    "                             meta_classifier=model2,\n",
    "                             cv=cv,\n",
    "                             use_probas=True,\n",
    "                             use_features_in_secondary=True,\n",
    "                             verbose=1,\n",
    "                             random_state=SEED,\n",
    "                             n_jobs=-1)"
   ]
  },
  {
   "cell_type": "code",
   "execution_count": 32,
   "metadata": {},
   "outputs": [
    {
     "name": "stdout",
     "output_type": "stream",
     "text": [
      "Fitting 3 classifiers...\n",
      "Fitting classifier1: lgbmclassifier (1/3)\n"
     ]
    },
    {
     "name": "stderr",
     "output_type": "stream",
     "text": [
      "[Parallel(n_jobs=-1)]: Using backend LokyBackend with 8 concurrent workers.\n",
      "[Parallel(n_jobs=-1)]: Done   2 out of   5 | elapsed:  1.4min remaining:  2.2min\n",
      "[Parallel(n_jobs=-1)]: Done   5 out of   5 | elapsed:  1.4min finished\n",
      "[Parallel(n_jobs=-1)]: Using backend LokyBackend with 8 concurrent workers.\n"
     ]
    },
    {
     "name": "stdout",
     "output_type": "stream",
     "text": [
      "Fitting classifier2: randomforestclassifier (2/3)\n"
     ]
    },
    {
     "name": "stderr",
     "output_type": "stream",
     "text": [
      "[Parallel(n_jobs=-1)]: Done   2 out of   5 | elapsed:   26.3s remaining:   39.5s\n",
      "[Parallel(n_jobs=-1)]: Done   5 out of   5 | elapsed:   27.7s finished\n",
      "[Parallel(n_jobs=-1)]: Using backend LokyBackend with 8 concurrent workers.\n"
     ]
    },
    {
     "name": "stdout",
     "output_type": "stream",
     "text": [
      "Fitting classifier3: extratreesclassifier (3/3)\n"
     ]
    },
    {
     "name": "stderr",
     "output_type": "stream",
     "text": [
      "[Parallel(n_jobs=-1)]: Done   2 out of   5 | elapsed:   11.3s remaining:   16.9s\n",
      "[Parallel(n_jobs=-1)]: Done   5 out of   5 | elapsed:   11.6s finished\n"
     ]
    },
    {
     "name": "stdout",
     "output_type": "stream",
     "text": [
      "Ready!\n"
     ]
    }
   ],
   "source": [
    "# add test clustering, use all features\n",
    "# 0.82166\n",
    "predict_stack = predict(stack2, 'submission11', X = X_train2[select(importances2,0.01)],\n",
    "                        y=y, test = X_test2[select(importances2,0.01)])\n",
    "print('Ready!')"
   ]
  },
  {
   "cell_type": "markdown",
   "metadata": {},
   "source": [
    "### Neural Network"
   ]
  },
  {
   "cell_type": "code",
   "execution_count": 33,
   "metadata": {},
   "outputs": [
    {
     "name": "stderr",
     "output_type": "stream",
     "text": [
      "Using TensorFlow backend.\n"
     ]
    }
   ],
   "source": [
    "from keras import models\n",
    "from keras import layers\n",
    "from keras.utils.np_utils import to_categorical\n",
    "from keras import regularizers\n",
    "from keras import optimizers"
   ]
  },
  {
   "cell_type": "code",
   "execution_count": 34,
   "metadata": {},
   "outputs": [],
   "source": [
    "y_dummy = to_categorical(y)"
   ]
  },
  {
   "cell_type": "markdown",
   "metadata": {},
   "source": [
    "   ##### nn1 utilize 67 features soil_types and soil_num"
   ]
  },
  {
   "cell_type": "code",
   "execution_count": 35,
   "metadata": {},
   "outputs": [
    {
     "name": "stdout",
     "output_type": "stream",
     "text": [
      "WARNING:tensorflow:From C:\\Users\\qianm\\Anaconda3\\lib\\site-packages\\tensorflow\\python\\ops\\resource_variable_ops.py:435: colocate_with (from tensorflow.python.framework.ops) is deprecated and will be removed in a future version.\n",
      "Instructions for updating:\n",
      "Colocations handled automatically by placer.\n"
     ]
    }
   ],
   "source": [
    "nn = models.Sequential()\n",
    "\n",
    "# works fine not great, val_acc never exceeds 70%\n",
    "\n",
    "nn.add(layers.Dense(32, activation='relu', input_shape = (67,)) )\n",
    "nn.add(layers.Dense(32, activation='relu'))\n",
    "nn.add(layers.Dense(32, activation='relu'))\n",
    "nn.add(layers.Dense(8, activation='softmax'))\n",
    "\n",
    "nn.compile(optimizer='rmsprop',\n",
    "              loss='categorical_crossentropy',\n",
    "              metrics=['accuracy'])"
   ]
  },
  {
   "cell_type": "code",
   "execution_count": 39,
   "metadata": {},
   "outputs": [],
   "source": [
    "X_val = X_train[:3000]\n",
    "partial_X_train = X_train[3000:]\n",
    "\n",
    "y_val = y_dummy[:3000]\n",
    "partial_y_train = y_dummy[3000:]\n",
    "\n",
    "history = nn.fit(partial_X_train, partial_y_train, \n",
    "                 epochs=500, batch_size=200, \n",
    "                 validation_data=(X_val, y_val), verbose=0)"
   ]
  },
  {
   "cell_type": "code",
   "execution_count": 40,
   "metadata": {},
   "outputs": [
    {
     "data": {
      "image/png": "[encoded data removed]",
      "text/plain": [
       "<Figure size 432x288 with 1 Axes>"
      ]
     },
     "metadata": {
      "needs_background": "light"
     },
     "output_type": "display_data"
    }
   ],
   "source": [
    "acc = history.history['accuracy']\n",
    "val_acc = history.history['val_accuracy']\n",
    "\n",
    "epochs = range(1, len(acc) + 1)\n",
    "\n",
    "plt.plot(epochs, acc, 'b', label='Training Accuracy')\n",
    "plt.plot(epochs, val_acc, 'r', label='Validation Accuracy')\n",
    "plt.title('Training and validation acc')\n",
    "plt.xlabel('Epochs')\n",
    "plt.ylabel('Acc')\n",
    "plt.legend()\n",
    "\n",
    "plt.show()"
   ]
  },
  {
   "cell_type": "code",
   "execution_count": 41,
   "metadata": {},
   "outputs": [
    {
     "name": "stdout",
     "output_type": "stream",
     "text": [
      "0.6753333210945129\n",
      "0.81633663\n"
     ]
    }
   ],
   "source": [
    "print(max(val_acc))\n",
    "print(max(acc))\n",
    "\n",
    "# cv accuracy not as good as tree models"
   ]
  },
  {
   "cell_type": "markdown",
   "metadata": {},
   "source": [
    "##### nn2 utilize soil_type only"
   ]
  },
  {
   "cell_type": "code",
   "execution_count": 42,
   "metadata": {},
   "outputs": [],
   "source": [
    "X_train, y, X_test = choose_pp(preprocessing4, drop_soil = True, drop_num = False)\n",
    "y_dummy = to_categorical(y)"
   ]
  },
  {
   "cell_type": "code",
   "execution_count": 172,
   "metadata": {},
   "outputs": [],
   "source": [
    "# fit with only one fold\n",
    "\n",
    "def fit_eval(r, m, epochs, batch_size, v):\n",
    "    X_val = X_train[:r]\n",
    "    partial_X_train = X_train[r:]\n",
    "\n",
    "    y_val = y_dummy[:r]\n",
    "    partial_y_train = y_dummy[r:]\n",
    "\n",
    "    history = m.fit(partial_X_train,\n",
    "                        partial_y_train,\n",
    "                        epochs=epochs,\n",
    "                        batch_size=batch_size,\n",
    "                        validation_data = (X_val, y_val), verbose=v)\n",
    "    \n",
    "    acc = history.history['accuracy']\n",
    "    val_acc = history.history['val_accuracy']\n",
    "\n",
    "    epochs = range(1, len(acc) + 1)\n",
    "\n",
    "    plt.plot(epochs, acc, 'r', label='Training Accuracy')\n",
    "    plt.plot(epochs, val_acc, 'b', label='Validation Accuracy')\n",
    "    plt.title('Training and validation acc')\n",
    "    plt.xlabel('Epochs')\n",
    "    plt.ylabel('Acc')\n",
    "    plt.legend()\n",
    "\n",
    "    return history"
   ]
  },
  {
   "cell_type": "code",
   "execution_count": 191,
   "metadata": {},
   "outputs": [],
   "source": [
    "nn2 = models.Sequential()\n",
    "\n",
    "nn2.add(layers.Dense(32, activation='relu',kernel_regularizer=regularizers.l1_l2(0.001, 0.001), input_shape = (27,)) )\n",
    "nn2.add(layers.Dropout(0.1))\n",
    "nn2.add(layers.Dense(128, activation='relu', kernel_regularizer=regularizers.l1_l2(0.001,0.001)))\n",
    "nn2.add(layers.Dropout(0.1))\n",
    "# nn2.add(layers.Dense(128, activation='relu', kernel_regularizer=regularizers.l1_l2(0.001,0.001)))\n",
    "# nn2.add(layers.Dropout(0.1))\n",
    "# nn2.add(layers.Dense(128, activation='relu', kernel_regularizer=regularizers.l1_l2(0.001,0.001)))\n",
    "# nn2.add(layers.Dropout(0.1))\n",
    "# nn2.add(layers.Dense(128, activation='relu', kernel_regularizer=regularizers.l1_l2(0.001,0.001)))\n",
    "# nn2.add(layers.Dropout(0.1))\n",
    "nn2.add(layers.Dense(64, activation='relu', kernel_regularizer=regularizers.l1_l2(0.001,0.001)))\n",
    "# nn2.add(layers.Dense(64, activation='relu', kernel_regularizer=regularizers.l1_l2(0.001,0.001)))\n",
    "# nn2.add(layers.Dense(64, activation='relu', kernel_regularizer=regularizers.l1_l2(0.001,0.001)))\n",
    "\n",
    "# nn2.add(layers.Dense(128, activation='relu',kernel_regularizer=regularizers.l2(0.0001)))\n",
    "# nn2.add(layers.Dense(64, activation='relu',kernel_regularizer=regularizers.l2(0.0001)))\n",
    "#nn2.add(layers.Dense(64, activation='relu',kernel_regularizer=regularizers.l2(0.0001)))\n",
    "# nn2.add(layers.Dropout(0.1))\n",
    "nn2.add(layers.Dense(32, activation='relu'))\n",
    "# nn2.add(layers.Dropout(0.1))\n",
    "nn2.add(layers.Dense(8, activation='softmax'))\n",
    "\n",
    "nn2.compile(optimizer='rmsprop',\n",
    "              loss='categorical_crossentropy',\n",
    "              metrics=['accuracy'])"
   ]
  },
  {
   "cell_type": "code",
   "execution_count": 192,
   "metadata": {},
   "outputs": [
    {
     "name": "stdout",
     "output_type": "stream",
     "text": [
      "Train on 12120 samples, validate on 3000 samples\n",
      "Epoch 1/500\n",
      "12120/12120 [==============================] - 4s 360us/step - loss: 13.8356 - accuracy: 0.2146 - val_loss: 16.2996 - val_accuracy: 0.0563\n",
      "Epoch 2/500\n",
      "12120/12120 [==============================] - 1s 60us/step - loss: 13.3578 - accuracy: 0.2321 - val_loss: 15.6367 - val_accuracy: 0.0887\n",
      "Epoch 3/500\n",
      "12120/12120 [==============================] - 1s 59us/step - loss: 13.0047 - accuracy: 0.2467 - val_loss: 15.5375 - val_accuracy: 0.0880\n",
      "Epoch 4/500\n",
      "12120/12120 [==============================] - 1s 57us/step - loss: 12.8214 - accuracy: 0.2530 - val_loss: 15.4945 - val_accuracy: 0.0863\n",
      "Epoch 5/500\n",
      "12120/12120 [==============================] - 1s 64us/step - loss: 12.7508 - accuracy: 0.2537 - val_loss: 15.7468 - val_accuracy: 0.0667\n",
      "Epoch 6/500\n",
      "12120/12120 [==============================] - 1s 65us/step - loss: 12.7612 - accuracy: 0.2499 - val_loss: 15.9147 - val_accuracy: 0.0533\n",
      "Epoch 7/500\n",
      "12120/12120 [==============================] - 1s 64us/step - loss: 12.6709 - accuracy: 0.2531 - val_loss: 15.7528 - val_accuracy: 0.0613\n",
      "Epoch 8/500\n",
      "12120/12120 [==============================] - 1s 63us/step - loss: 12.7228 - accuracy: 0.2479 - val_loss: 15.4611 - val_accuracy: 0.0777\n",
      "Epoch 9/500\n",
      "12120/12120 [==============================] - 1s 63us/step - loss: 12.5906 - accuracy: 0.2543 - val_loss: 15.2585 - val_accuracy: 0.0887\n",
      "Epoch 10/500\n",
      "12120/12120 [==============================] - 1s 61us/step - loss: 12.6601 - accuracy: 0.2483 - val_loss: 15.6323 - val_accuracy: 0.0633\n",
      "Epoch 11/500\n",
      "12120/12120 [==============================] - 1s 62us/step - loss: 12.5327 - accuracy: 0.2537 - val_loss: 15.2935 - val_accuracy: 0.0837\n",
      "Epoch 12/500\n",
      "12120/12120 [==============================] - 1s 63us/step - loss: 12.4195 - accuracy: 0.2604 - val_loss: 15.1944 - val_accuracy: 0.0887\n",
      "Epoch 13/500\n",
      "12120/12120 [==============================] - 1s 80us/step - loss: 12.3593 - accuracy: 0.2630 - val_loss: 15.1779 - val_accuracy: 0.0887\n",
      "Epoch 14/500\n",
      "12120/12120 [==============================] - 1s 75us/step - loss: 12.3564 - accuracy: 0.2620 - val_loss: 15.6038 - val_accuracy: 0.0607\n",
      "Epoch 15/500\n",
      "12120/12120 [==============================] - 1s 66us/step - loss: 12.3036 - accuracy: 0.2644 - val_loss: 15.3284 - val_accuracy: 0.0767\n",
      "Epoch 16/500\n",
      "12120/12120 [==============================] - 1s 58us/step - loss: 12.3873 - accuracy: 0.2581 - val_loss: 15.1185 - val_accuracy: 0.0887\n",
      "Epoch 17/500\n",
      "12120/12120 [==============================] - 1s 60us/step - loss: 12.2845 - accuracy: 0.2634 - val_loss: 15.1073 - val_accuracy: 0.0883\n",
      "Epoch 18/500\n",
      "12120/12120 [==============================] - 1s 60us/step - loss: 12.3159 - accuracy: 0.2606 - val_loss: 15.0971 - val_accuracy: 0.0880\n",
      "Epoch 19/500\n",
      "12120/12120 [==============================] - 1s 58us/step - loss: 12.2117 - accuracy: 0.2660 - val_loss: 15.0696 - val_accuracy: 0.0887\n",
      "Epoch 20/500\n",
      "12120/12120 [==============================] - 1s 57us/step - loss: 12.3050 - accuracy: 0.2593 - val_loss: 15.0836 - val_accuracy: 0.0867\n",
      "Epoch 21/500\n",
      "12120/12120 [==============================] - 1s 60us/step - loss: 12.1979 - accuracy: 0.2615 - val_loss: 14.3611 - val_accuracy: 0.1277\n",
      "Epoch 22/500\n",
      "12120/12120 [==============================] - 1s 73us/step - loss: 12.0104 - accuracy: 0.2669 - val_loss: 14.6682 - val_accuracy: 0.1057\n",
      "Epoch 23/500\n",
      "12120/12120 [==============================] - 1s 67us/step - loss: 11.7361 - accuracy: 0.2649 - val_loss: 12.2565 - val_accuracy: 0.1610\n",
      "Epoch 24/500\n",
      "12120/12120 [==============================] - 1s 81us/step - loss: 10.8919 - accuracy: 0.2547 - val_loss: 10.1445 - val_accuracy: 0.2517\n",
      "Epoch 25/500\n",
      "12120/12120 [==============================] - 2s 126us/step - loss: 8.9914 - accuracy: 0.2479 - val_loss: 9.5996 - val_accuracy: 0.0633\n",
      "Epoch 26/500\n",
      "12120/12120 [==============================] - 1s 79us/step - loss: 3.5521 - accuracy: 0.2317 - val_loss: 3.0753 - val_accuracy: 0.2207\n",
      "Epoch 27/500\n",
      "12120/12120 [==============================] - 1s 108us/step - loss: 2.1959 - accuracy: 0.2880 - val_loss: 2.0433 - val_accuracy: 0.2300\n",
      "Epoch 28/500\n",
      "12120/12120 [==============================] - 1s 76us/step - loss: 2.0590 - accuracy: 0.3153 - val_loss: 2.0927 - val_accuracy: 0.2547\n",
      "Epoch 29/500\n",
      "12120/12120 [==============================] - 1s 75us/step - loss: 1.9526 - accuracy: 0.3384 - val_loss: 1.9155 - val_accuracy: 0.3277\n",
      "Epoch 30/500\n",
      "12120/12120 [==============================] - 1s 69us/step - loss: 1.8782 - accuracy: 0.3542 - val_loss: 1.8255 - val_accuracy: 0.3260\n",
      "Epoch 31/500\n",
      "12120/12120 [==============================] - 1s 60us/step - loss: 1.7940 - accuracy: 0.3787 - val_loss: 1.9456 - val_accuracy: 0.3197\n",
      "Epoch 32/500\n",
      "12120/12120 [==============================] - 1s 53us/step - loss: 1.7416 - accuracy: 0.3960 - val_loss: 1.8174 - val_accuracy: 0.3080\n",
      "Epoch 33/500\n",
      "12120/12120 [==============================] - 1s 69us/step - loss: 1.6821 - accuracy: 0.4128 - val_loss: 1.8912 - val_accuracy: 0.3037\n",
      "Epoch 34/500\n",
      "12120/12120 [==============================] - 1s 58us/step - loss: 1.6401 - accuracy: 0.4329 - val_loss: 1.6250 - val_accuracy: 0.3493- loss: 1.6399 - accura\n",
      "Epoch 35/500\n",
      "12120/12120 [==============================] - 1s 61us/step - loss: 1.5911 - accuracy: 0.4508 - val_loss: 1.6541 - val_accuracy: 0.3213\n",
      "Epoch 36/500\n",
      "12120/12120 [==============================] - 1s 70us/step - loss: 1.5636 - accuracy: 0.4548 - val_loss: 1.5736 - val_accuracy: 0.4230\n",
      "Epoch 37/500\n",
      "12120/12120 [==============================] - 1s 107us/step - loss: 1.5306 - accuracy: 0.4633 - val_loss: 1.5923 - val_accuracy: 0.3733\n",
      "Epoch 38/500\n",
      "12120/12120 [==============================] - 1s 60us/step - loss: 1.5032 - accuracy: 0.4763 - val_loss: 1.6082 - val_accuracy: 0.3467\n",
      "Epoch 39/500\n",
      "12120/12120 [==============================] - 1s 58us/step - loss: 1.4712 - accuracy: 0.4848 - val_loss: 1.3758 - val_accuracy: 0.4887\n",
      "Epoch 40/500\n",
      "12120/12120 [==============================] - 1s 55us/step - loss: 1.4452 - accuracy: 0.4905 - val_loss: 1.6881 - val_accuracy: 0.3117\n",
      "Epoch 41/500\n",
      "12120/12120 [==============================] - 1s 61us/step - loss: 1.4311 - accuracy: 0.4979 - val_loss: 1.5991 - val_accuracy: 0.3813\n",
      "Epoch 42/500\n",
      "12120/12120 [==============================] - 1s 55us/step - loss: 1.3987 - accuracy: 0.5089 - val_loss: 1.5046 - val_accuracy: 0.4217\n",
      "Epoch 43/500\n",
      "12120/12120 [==============================] - 1s 68us/step - loss: 1.4086 - accuracy: 0.5043 - val_loss: 1.4539 - val_accuracy: 0.4370\n",
      "Epoch 44/500\n",
      "12120/12120 [==============================] - 1s 62us/step - loss: 1.3775 - accuracy: 0.5134 - val_loss: 1.4532 - val_accuracy: 0.4363\n",
      "Epoch 45/500\n",
      "12120/12120 [==============================] - 1s 63us/step - loss: 1.3614 - accuracy: 0.5213 - val_loss: 1.4632 - val_accuracy: 0.4437\n",
      "Epoch 46/500\n",
      "12120/12120 [==============================] - 1s 91us/step - loss: 1.3386 - accuracy: 0.5300 - val_loss: 1.5568 - val_accuracy: 0.3597\n",
      "Epoch 47/500\n",
      "12120/12120 [==============================] - 1s 76us/step - loss: 1.3388 - accuracy: 0.5288 - val_loss: 1.4971 - val_accuracy: 0.4440\n",
      "Epoch 48/500\n",
      "12120/12120 [==============================] - 1s 60us/step - loss: 1.3188 - accuracy: 0.5351 - val_loss: 1.4222 - val_accuracy: 0.4703\n",
      "Epoch 49/500\n",
      "12120/12120 [==============================] - 1s 66us/step - loss: 1.3155 - accuracy: 0.5340 - val_loss: 1.4846 - val_accuracy: 0.3560\n",
      "Epoch 50/500\n",
      "12120/12120 [==============================] - 1s 70us/step - loss: 1.2973 - accuracy: 0.5386 - val_loss: 1.3324 - val_accuracy: 0.4797\n",
      "Epoch 51/500\n",
      "12120/12120 [==============================] - 1s 55us/step - loss: 1.2935 - accuracy: 0.5462 - val_loss: 1.5036 - val_accuracy: 0.3803\n",
      "Epoch 52/500\n",
      "12120/12120 [==============================] - 1s 92us/step - loss: 1.2880 - accuracy: 0.5447 - val_loss: 1.6865 - val_accuracy: 0.3247\n",
      "Epoch 53/500\n",
      "12120/12120 [==============================] - 1s 83us/step - loss: 1.2736 - accuracy: 0.5490 - val_loss: 1.8141 - val_accuracy: 0.2897\n",
      "Epoch 54/500\n",
      "12120/12120 [==============================] - 1s 69us/step - loss: 1.2650 - accuracy: 0.5590 - val_loss: 1.4551 - val_accuracy: 0.4233\n",
      "Epoch 55/500\n",
      "12120/12120 [==============================] - 1s 54us/step - loss: 1.2689 - accuracy: 0.5524 - val_loss: 1.3851 - val_accuracy: 0.4833\n",
      "Epoch 56/500\n",
      "12120/12120 [==============================] - 1s 60us/step - loss: 1.2401 - accuracy: 0.5616 - val_loss: 1.5908 - val_accuracy: 0.3473\n",
      "Epoch 57/500\n",
      "12120/12120 [==============================] - 1s 61us/step - loss: 1.2516 - accuracy: 0.5559 - val_loss: 1.3967 - val_accuracy: 0.4740\n",
      "Epoch 58/500\n",
      "12120/12120 [==============================] - 1s 88us/step - loss: 1.2426 - accuracy: 0.5625 - val_loss: 1.5502 - val_accuracy: 0.3723\n",
      "Epoch 59/500\n",
      "12120/12120 [==============================] - 1s 83us/step - loss: 1.2155 - accuracy: 0.5664 - val_loss: 1.7114 - val_accuracy: 0.3097\n",
      "Epoch 60/500\n",
      "12120/12120 [==============================] - 1s 64us/step - loss: 1.2310 - accuracy: 0.5670 - val_loss: 1.3893 - val_accuracy: 0.4860\n",
      "Epoch 61/500\n",
      "12120/12120 [==============================] - 1s 67us/step - loss: 1.2285 - accuracy: 0.5619 - val_loss: 1.3615 - val_accuracy: 0.4790\n",
      "Epoch 62/500\n",
      "12120/12120 [==============================] - 1s 120us/step - loss: 1.2294 - accuracy: 0.5630 - val_loss: 1.3837 - val_accuracy: 0.4337\n",
      "Epoch 63/500\n",
      "12120/12120 [==============================] - 1s 63us/step - loss: 1.1972 - accuracy: 0.5734 - val_loss: 1.3249 - val_accuracy: 0.4987\n",
      "Epoch 64/500\n",
      "12120/12120 [==============================] - 1s 54us/step - loss: 1.2004 - accuracy: 0.5725 - val_loss: 1.2876 - val_accuracy: 0.4900\n",
      "Epoch 65/500\n",
      "12120/12120 [==============================] - 1s 53us/step - loss: 1.1866 - accuracy: 0.5756 - val_loss: 1.4625 - val_accuracy: 0.3857\n",
      "Epoch 66/500\n",
      "12120/12120 [==============================] - 1s 54us/step - loss: 1.2105 - accuracy: 0.5729 - val_loss: 1.4481 - val_accuracy: 0.4400\n",
      "Epoch 67/500\n",
      "12120/12120 [==============================] - 1s 52us/step - loss: 1.1800 - accuracy: 0.5825 - val_loss: 1.3512 - val_accuracy: 0.4667\n",
      "Epoch 68/500\n",
      "12120/12120 [==============================] - 1s 54us/step - loss: 1.1752 - accuracy: 0.5788 - val_loss: 1.3986 - val_accuracy: 0.4650\n",
      "Epoch 69/500\n",
      "12120/12120 [==============================] - 1s 52us/step - loss: 1.1892 - accuracy: 0.5738 - val_loss: 1.3272 - val_accuracy: 0.4593\n",
      "Epoch 70/500\n",
      "12120/12120 [==============================] - 1s 51us/step - loss: 1.1656 - accuracy: 0.5859 - val_loss: 1.4636 - val_accuracy: 0.4163\n",
      "Epoch 71/500\n",
      "12120/12120 [==============================] - 1s 59us/step - loss: 1.1711 - accuracy: 0.5867 - val_loss: 1.3341 - val_accuracy: 0.5053\n",
      "Epoch 72/500\n",
      "12120/12120 [==============================] - 1s 53us/step - loss: 1.1634 - accuracy: 0.5869 - val_loss: 1.3085 - val_accuracy: 0.5003\n",
      "Epoch 73/500\n",
      "12120/12120 [==============================] - 1s 53us/step - loss: 1.1540 - accuracy: 0.5941 - val_loss: 1.3463 - val_accuracy: 0.4520\n",
      "Epoch 74/500\n",
      "12120/12120 [==============================] - 1s 52us/step - loss: 1.1552 - accuracy: 0.5881 - val_loss: 1.3065 - val_accuracy: 0.4940\n",
      "Epoch 75/500\n",
      "12120/12120 [==============================] - 1s 50us/step - loss: 1.1575 - accuracy: 0.5894 - val_loss: 1.2554 - val_accuracy: 0.5050\n",
      "Epoch 76/500\n",
      "12120/12120 [==============================] - 1s 64us/step - loss: 1.1464 - accuracy: 0.5927 - val_loss: 1.2725 - val_accuracy: 0.5057\n",
      "Epoch 77/500\n",
      "12120/12120 [==============================] - 1s 52us/step - loss: 1.1453 - accuracy: 0.5920 - val_loss: 1.3570 - val_accuracy: 0.4423\n",
      "Epoch 78/500\n",
      "12120/12120 [==============================] - 1s 50us/step - loss: 1.1415 - accuracy: 0.5973 - val_loss: 1.5116 - val_accuracy: 0.3887\n",
      "Epoch 79/500\n",
      "12120/12120 [==============================] - 1s 52us/step - loss: 1.1338 - accuracy: 0.5968 - val_loss: 1.3079 - val_accuracy: 0.5037\n",
      "Epoch 80/500\n",
      "12120/12120 [==============================] - 1s 47us/step - loss: 1.1237 - accuracy: 0.5993 - val_loss: 1.3128 - val_accuracy: 0.5060\n",
      "Epoch 81/500\n",
      "12120/12120 [==============================] - 1s 49us/step - loss: 1.1186 - accuracy: 0.6102 - val_loss: 1.1894 - val_accuracy: 0.5433\n",
      "Epoch 82/500\n",
      "12120/12120 [==============================] - 1s 48us/step - loss: 1.1276 - accuracy: 0.5960 - val_loss: 1.3088 - val_accuracy: 0.4930\n",
      "Epoch 83/500\n",
      "12120/12120 [==============================] - 1s 47us/step - loss: 1.1167 - accuracy: 0.6050 - val_loss: 1.5807 - val_accuracy: 0.3490\n",
      "Epoch 84/500\n",
      "12120/12120 [==============================] - 1s 47us/step - loss: 1.1270 - accuracy: 0.6040 - val_loss: 1.3752 - val_accuracy: 0.4670\n",
      "Epoch 85/500\n",
      "12120/12120 [==============================] - 1s 53us/step - loss: 1.1121 - accuracy: 0.6104 - val_loss: 1.2909 - val_accuracy: 0.5140\n",
      "Epoch 86/500\n",
      "12120/12120 [==============================] - 1s 52us/step - loss: 1.1171 - accuracy: 0.6038 - val_loss: 1.2971 - val_accuracy: 0.5143\n",
      "Epoch 87/500\n",
      "12120/12120 [==============================] - 1s 52us/step - loss: 1.1037 - accuracy: 0.6074 - val_loss: 1.1884 - val_accuracy: 0.5230\n",
      "Epoch 88/500\n",
      "12120/12120 [==============================] - 1s 54us/step - loss: 1.1102 - accuracy: 0.6106 - val_loss: 1.2489 - val_accuracy: 0.5233\n",
      "Epoch 89/500\n",
      "12120/12120 [==============================] - 1s 51us/step - loss: 1.0985 - accuracy: 0.6099 - val_loss: 1.2517 - val_accuracy: 0.5013\n",
      "Epoch 90/500\n",
      "12120/12120 [==============================] - 1s 51us/step - loss: 1.1045 - accuracy: 0.6068 - val_loss: 1.2456 - val_accuracy: 0.5160\n",
      "Epoch 91/500\n",
      "12120/12120 [==============================] - 1s 47us/step - loss: 1.0931 - accuracy: 0.6161 - val_loss: 1.3811 - val_accuracy: 0.4657\n",
      "Epoch 92/500\n",
      "12120/12120 [==============================] - 1s 47us/step - loss: 1.0941 - accuracy: 0.6136 - val_loss: 1.2397 - val_accuracy: 0.5190\n",
      "Epoch 93/500\n",
      "12120/12120 [==============================] - 1s 49us/step - loss: 1.0800 - accuracy: 0.6243 - val_loss: 1.5757 - val_accuracy: 0.4270\n",
      "Epoch 94/500\n",
      "12120/12120 [==============================] - 1s 52us/step - loss: 1.0953 - accuracy: 0.6138 - val_loss: 1.2880 - val_accuracy: 0.4733\n",
      "Epoch 95/500\n",
      "12120/12120 [==============================] - 1s 53us/step - loss: 1.0857 - accuracy: 0.6167 - val_loss: 1.2526 - val_accuracy: 0.5100\n",
      "Epoch 96/500\n",
      "12120/12120 [==============================] - 1s 50us/step - loss: 1.0782 - accuracy: 0.6130 - val_loss: 1.3746 - val_accuracy: 0.4693\n",
      "Epoch 97/500\n",
      "12120/12120 [==============================] - 1s 48us/step - loss: 1.0735 - accuracy: 0.6233 - val_loss: 1.5600 - val_accuracy: 0.4200\n",
      "Epoch 98/500\n",
      "12120/12120 [==============================] - 1s 48us/step - loss: 1.0862 - accuracy: 0.6174 - val_loss: 1.1848 - val_accuracy: 0.5603\n",
      "Epoch 99/500\n",
      "12120/12120 [==============================] - 1s 48us/step - loss: 1.0805 - accuracy: 0.6208 - val_loss: 1.3134 - val_accuracy: 0.5117\n",
      "Epoch 100/500\n",
      "12120/12120 [==============================] - 1s 48us/step - loss: 1.0695 - accuracy: 0.6200 - val_loss: 1.2398 - val_accuracy: 0.5130\n",
      "Epoch 101/500\n",
      "12120/12120 [==============================] - 1s 48us/step - loss: 1.0849 - accuracy: 0.6222 - val_loss: 1.3224 - val_accuracy: 0.5303\n",
      "Epoch 102/500\n",
      "12120/12120 [==============================] - 1s 47us/step - loss: 1.0781 - accuracy: 0.6231 - val_loss: 1.4957 - val_accuracy: 0.3977\n",
      "Epoch 103/500\n",
      "12120/12120 [==============================] - 1s 47us/step - loss: 1.0764 - accuracy: 0.6208 - val_loss: 1.2197 - val_accuracy: 0.5333\n",
      "Epoch 104/500\n",
      "12120/12120 [==============================] - 1s 46us/step - loss: 1.0734 - accuracy: 0.6237 - val_loss: 1.3397 - val_accuracy: 0.4663\n",
      "Epoch 105/500\n",
      "12120/12120 [==============================] - 1s 50us/step - loss: 1.0679 - accuracy: 0.6229 - val_loss: 1.1588 - val_accuracy: 0.5507\n",
      "Epoch 106/500\n",
      "12120/12120 [==============================] - 1s 46us/step - loss: 1.0573 - accuracy: 0.6257 - val_loss: 1.2429 - val_accuracy: 0.5247\n",
      "Epoch 107/500\n",
      "12120/12120 [==============================] - 1s 47us/step - loss: 1.0625 - accuracy: 0.6276 - val_loss: 1.4190 - val_accuracy: 0.4083\n",
      "Epoch 108/500\n",
      "12120/12120 [==============================] - 1s 45us/step - loss: 1.0647 - accuracy: 0.6275 - val_loss: 1.1689 - val_accuracy: 0.5297\n",
      "Epoch 109/500\n",
      "12120/12120 [==============================] - 1s 48us/step - loss: 1.0737 - accuracy: 0.6266 - val_loss: 1.1782 - val_accuracy: 0.5343\n"
     ]
    },
    {
     "name": "stdout",
     "output_type": "stream",
     "text": [
      "Epoch 110/500\n",
      "12120/12120 [==============================] - 1s 50us/step - loss: 1.0570 - accuracy: 0.6297 - val_loss: 1.1678 - val_accuracy: 0.5463\n",
      "Epoch 111/500\n",
      "12120/12120 [==============================] - 1s 51us/step - loss: 1.0475 - accuracy: 0.6281 - val_loss: 1.1928 - val_accuracy: 0.5427\n",
      "Epoch 112/500\n",
      "12120/12120 [==============================] - 1s 52us/step - loss: 1.0446 - accuracy: 0.6317 - val_loss: 1.2218 - val_accuracy: 0.5290\n",
      "Epoch 113/500\n",
      "12120/12120 [==============================] - 1s 53us/step - loss: 1.0590 - accuracy: 0.6276 - val_loss: 1.1638 - val_accuracy: 0.5507\n",
      "Epoch 114/500\n",
      "12120/12120 [==============================] - 1s 58us/step - loss: 1.0567 - accuracy: 0.6276 - val_loss: 1.2055 - val_accuracy: 0.5283\n",
      "Epoch 115/500\n",
      "12120/12120 [==============================] - 1s 48us/step - loss: 1.0510 - accuracy: 0.6337 - val_loss: 1.2281 - val_accuracy: 0.5363\n",
      "Epoch 116/500\n",
      "12120/12120 [==============================] - 1s 48us/step - loss: 1.0450 - accuracy: 0.6265 - val_loss: 1.3345 - val_accuracy: 0.4563\n",
      "Epoch 117/500\n",
      "12120/12120 [==============================] - 1s 49us/step - loss: 1.0426 - accuracy: 0.6307 - val_loss: 1.3046 - val_accuracy: 0.4650\n",
      "Epoch 118/500\n",
      "12120/12120 [==============================] - 1s 48us/step - loss: 1.0369 - accuracy: 0.6307 - val_loss: 1.1405 - val_accuracy: 0.5557\n",
      "Epoch 119/500\n",
      "12120/12120 [==============================] - 1s 48us/step - loss: 1.0578 - accuracy: 0.6256 - val_loss: 1.1930 - val_accuracy: 0.5370\n",
      "Epoch 120/500\n",
      "12120/12120 [==============================] - 1s 47us/step - loss: 1.0317 - accuracy: 0.6440 - val_loss: 1.2205 - val_accuracy: 0.5270\n",
      "Epoch 121/500\n",
      "12120/12120 [==============================] - 1s 47us/step - loss: 1.0398 - accuracy: 0.6257 - val_loss: 1.2125 - val_accuracy: 0.5093\n",
      "Epoch 122/500\n",
      "12120/12120 [==============================] - 1s 48us/step - loss: 1.0328 - accuracy: 0.6411 - val_loss: 1.1728 - val_accuracy: 0.5417\n",
      "Epoch 123/500\n",
      "12120/12120 [==============================] - 1s 48us/step - loss: 1.0526 - accuracy: 0.6300 - val_loss: 1.1406 - val_accuracy: 0.5620\n",
      "Epoch 124/500\n",
      "12120/12120 [==============================] - 1s 47us/step - loss: 1.0139 - accuracy: 0.6469 - val_loss: 1.2289 - val_accuracy: 0.4900\n",
      "Epoch 125/500\n",
      "12120/12120 [==============================] - 1s 47us/step - loss: 1.0437 - accuracy: 0.6342 - val_loss: 1.1903 - val_accuracy: 0.5453\n",
      "Epoch 126/500\n",
      "12120/12120 [==============================] - 1s 47us/step - loss: 1.0424 - accuracy: 0.6312 - val_loss: 1.2091 - val_accuracy: 0.5423\n",
      "Epoch 127/500\n",
      "12120/12120 [==============================] - 1s 47us/step - loss: 1.0251 - accuracy: 0.6434 - val_loss: 1.4658 - val_accuracy: 0.4660\n",
      "Epoch 128/500\n",
      "12120/12120 [==============================] - 1s 48us/step - loss: 1.0458 - accuracy: 0.6355 - val_loss: 1.2744 - val_accuracy: 0.5143\n",
      "Epoch 129/500\n",
      "12120/12120 [==============================] - 1s 49us/step - loss: 1.0155 - accuracy: 0.6417 - val_loss: 1.2877 - val_accuracy: 0.5003\n",
      "Epoch 130/500\n",
      "12120/12120 [==============================] - 1s 49us/step - loss: 1.0487 - accuracy: 0.6372 - val_loss: 1.3019 - val_accuracy: 0.4633\n",
      "Epoch 131/500\n",
      "12120/12120 [==============================] - 1s 49us/step - loss: 1.0280 - accuracy: 0.6401 - val_loss: 1.1425 - val_accuracy: 0.5537\n",
      "Epoch 132/500\n",
      "12120/12120 [==============================] - 1s 48us/step - loss: 1.0305 - accuracy: 0.6347 - val_loss: 1.1591 - val_accuracy: 0.5520\n",
      "Epoch 133/500\n",
      "12120/12120 [==============================] - 1s 55us/step - loss: 1.0150 - accuracy: 0.6404 - val_loss: 1.2914 - val_accuracy: 0.5337\n",
      "Epoch 134/500\n",
      "12120/12120 [==============================] - 1s 47us/step - loss: 1.0269 - accuracy: 0.6387 - val_loss: 1.1489 - val_accuracy: 0.5480\n",
      "Epoch 135/500\n",
      "12120/12120 [==============================] - 1s 47us/step - loss: 1.0272 - accuracy: 0.6437 - val_loss: 1.1938 - val_accuracy: 0.4853\n",
      "Epoch 136/500\n",
      "12120/12120 [==============================] - 1s 46us/step - loss: 1.0097 - accuracy: 0.6456 - val_loss: 1.3330 - val_accuracy: 0.4770\n",
      "Epoch 137/500\n",
      "12120/12120 [==============================] - 1s 50us/step - loss: 1.0227 - accuracy: 0.6399 - val_loss: 1.1732 - val_accuracy: 0.5470\n",
      "Epoch 138/500\n",
      "12120/12120 [==============================] - 1s 51us/step - loss: 1.0223 - accuracy: 0.6432 - val_loss: 1.5638 - val_accuracy: 0.4260\n",
      "Epoch 139/500\n",
      "12120/12120 [==============================] - 1s 49us/step - loss: 1.0298 - accuracy: 0.6368 - val_loss: 1.1543 - val_accuracy: 0.5380\n",
      "Epoch 140/500\n",
      "12120/12120 [==============================] - 1s 50us/step - loss: 1.0189 - accuracy: 0.6482 - val_loss: 1.3019 - val_accuracy: 0.4340\n",
      "Epoch 141/500\n",
      "12120/12120 [==============================] - 1s 48us/step - loss: 1.0116 - accuracy: 0.6449 - val_loss: 1.2002 - val_accuracy: 0.5367\n",
      "Epoch 142/500\n",
      "12120/12120 [==============================] - 1s 50us/step - loss: 1.0172 - accuracy: 0.6398 - val_loss: 1.1383 - val_accuracy: 0.5570\n",
      "Epoch 143/500\n",
      "12120/12120 [==============================] - 1s 49us/step - loss: 1.0175 - accuracy: 0.6479 - val_loss: 1.1434 - val_accuracy: 0.5563\n",
      "Epoch 144/500\n",
      "12120/12120 [==============================] - 1s 49us/step - loss: 1.0183 - accuracy: 0.6398 - val_loss: 1.2186 - val_accuracy: 0.5323\n",
      "Epoch 145/500\n",
      "12120/12120 [==============================] - 1s 49us/step - loss: 1.0152 - accuracy: 0.6436 - val_loss: 1.1849 - val_accuracy: 0.5273\n",
      "Epoch 146/500\n",
      "12120/12120 [==============================] - 1s 50us/step - loss: 1.0040 - accuracy: 0.6466 - val_loss: 1.2679 - val_accuracy: 0.5247\n",
      "Epoch 147/500\n",
      "12120/12120 [==============================] - 1s 48us/step - loss: 1.0146 - accuracy: 0.6483 - val_loss: 1.1645 - val_accuracy: 0.5363\n",
      "Epoch 148/500\n",
      "12120/12120 [==============================] - 1s 48us/step - loss: 1.0113 - accuracy: 0.6456 - val_loss: 1.1831 - val_accuracy: 0.5640\n",
      "Epoch 149/500\n",
      "12120/12120 [==============================] - 1s 47us/step - loss: 1.0126 - accuracy: 0.6465 - val_loss: 1.1556 - val_accuracy: 0.5527\n",
      "Epoch 150/500\n",
      "12120/12120 [==============================] - 1s 48us/step - loss: 1.0120 - accuracy: 0.6431 - val_loss: 1.4086 - val_accuracy: 0.4253\n",
      "Epoch 151/500\n",
      "12120/12120 [==============================] - 1s 47us/step - loss: 0.9931 - accuracy: 0.6549 - val_loss: 1.3602 - val_accuracy: 0.5043\n",
      "Epoch 152/500\n",
      "12120/12120 [==============================] - 1s 55us/step - loss: 0.9980 - accuracy: 0.6494 - val_loss: 1.1672 - val_accuracy: 0.5380\n",
      "Epoch 153/500\n",
      "12120/12120 [==============================] - 1s 47us/step - loss: 0.9951 - accuracy: 0.6530 - val_loss: 1.3294 - val_accuracy: 0.5050\n",
      "Epoch 154/500\n",
      "12120/12120 [==============================] - 1s 48us/step - loss: 1.0112 - accuracy: 0.6455 - val_loss: 1.1563 - val_accuracy: 0.5637\n",
      "Epoch 155/500\n",
      "12120/12120 [==============================] - 1s 47us/step - loss: 1.0011 - accuracy: 0.6527 - val_loss: 1.2401 - val_accuracy: 0.5313\n",
      "Epoch 156/500\n",
      "12120/12120 [==============================] - 1s 46us/step - loss: 0.9984 - accuracy: 0.6533 - val_loss: 1.1925 - val_accuracy: 0.5260\n",
      "Epoch 157/500\n",
      "12120/12120 [==============================] - 1s 46us/step - loss: 1.0062 - accuracy: 0.6498 - val_loss: 1.1568 - val_accuracy: 0.5247\n",
      "Epoch 158/500\n",
      "12120/12120 [==============================] - 1s 48us/step - loss: 0.9920 - accuracy: 0.6515 - val_loss: 1.1300 - val_accuracy: 0.5523\n",
      "Epoch 159/500\n",
      "12120/12120 [==============================] - 1s 46us/step - loss: 1.0145 - accuracy: 0.6458 - val_loss: 1.2094 - val_accuracy: 0.5437\n",
      "Epoch 160/500\n",
      "12120/12120 [==============================] - 1s 47us/step - loss: 0.9931 - accuracy: 0.6570 - val_loss: 1.4429 - val_accuracy: 0.4103\n",
      "Epoch 161/500\n",
      "12120/12120 [==============================] - 1s 47us/step - loss: 0.9938 - accuracy: 0.6443 - val_loss: 1.2037 - val_accuracy: 0.5363\n",
      "Epoch 162/500\n",
      "12120/12120 [==============================] - 1s 47us/step - loss: 0.9964 - accuracy: 0.6473 - val_loss: 1.1657 - val_accuracy: 0.5610\n",
      "Epoch 163/500\n",
      "12120/12120 [==============================] - 1s 47us/step - loss: 0.9922 - accuracy: 0.6493 - val_loss: 1.2476 - val_accuracy: 0.5450\n",
      "Epoch 164/500\n",
      "12120/12120 [==============================] - 1s 49us/step - loss: 0.9923 - accuracy: 0.6513 - val_loss: 1.1474 - val_accuracy: 0.5597\n",
      "Epoch 165/500\n",
      "12120/12120 [==============================] - 1s 51us/step - loss: 0.9890 - accuracy: 0.6567 - val_loss: 1.1607 - val_accuracy: 0.5643\n",
      "Epoch 166/500\n",
      "12120/12120 [==============================] - 1s 57us/step - loss: 0.9879 - accuracy: 0.6561 - val_loss: 1.0966 - val_accuracy: 0.5740\n",
      "Epoch 167/500\n",
      "12120/12120 [==============================] - 1s 63us/step - loss: 1.0009 - accuracy: 0.6460 - val_loss: 1.1129 - val_accuracy: 0.5600\n",
      "Epoch 168/500\n",
      "12120/12120 [==============================] - 1s 53us/step - loss: 1.0003 - accuracy: 0.6507 - val_loss: 1.0959 - val_accuracy: 0.5633\n",
      "Epoch 169/500\n",
      "12120/12120 [==============================] - 1s 49us/step - loss: 0.9892 - accuracy: 0.6542 - val_loss: 1.1322 - val_accuracy: 0.5640\n",
      "Epoch 170/500\n",
      "12120/12120 [==============================] - 1s 51us/step - loss: 0.9933 - accuracy: 0.6580 - val_loss: 1.1666 - val_accuracy: 0.5330\n",
      "Epoch 171/500\n",
      "12120/12120 [==============================] - 1s 50us/step - loss: 0.9947 - accuracy: 0.6528 - val_loss: 1.1695 - val_accuracy: 0.5567\n",
      "Epoch 172/500\n",
      "12120/12120 [==============================] - 1s 65us/step - loss: 0.9899 - accuracy: 0.6588 - val_loss: 1.2029 - val_accuracy: 0.5463\n",
      "Epoch 173/500\n",
      "12120/12120 [==============================] - 1s 55us/step - loss: 0.9856 - accuracy: 0.6540 - val_loss: 1.1794 - val_accuracy: 0.5577\n",
      "Epoch 174/500\n",
      "12120/12120 [==============================] - 1s 53us/step - loss: 0.9783 - accuracy: 0.6572 - val_loss: 1.1398 - val_accuracy: 0.5603\n",
      "Epoch 175/500\n",
      "12120/12120 [==============================] - 1s 53us/step - loss: 0.9965 - accuracy: 0.6504 - val_loss: 1.1284 - val_accuracy: 0.5583\n",
      "Epoch 176/500\n",
      "12120/12120 [==============================] - 1s 51us/step - loss: 0.9849 - accuracy: 0.6592 - val_loss: 1.1033 - val_accuracy: 0.5573\n",
      "Epoch 177/500\n",
      "12120/12120 [==============================] - 1s 51us/step - loss: 0.9788 - accuracy: 0.6580 - val_loss: 1.1664 - val_accuracy: 0.5620\n",
      "Epoch 178/500\n",
      "12120/12120 [==============================] - 1s 54us/step - loss: 0.9825 - accuracy: 0.6546 - val_loss: 1.2260 - val_accuracy: 0.5470\n",
      "Epoch 179/500\n",
      "12120/12120 [==============================] - 1s 51us/step - loss: 0.9860 - accuracy: 0.6561 - val_loss: 1.1424 - val_accuracy: 0.5637\n",
      "Epoch 180/500\n",
      "12120/12120 [==============================] - 1s 52us/step - loss: 0.9937 - accuracy: 0.6514 - val_loss: 1.1257 - val_accuracy: 0.5513\n",
      "Epoch 181/500\n",
      "12120/12120 [==============================] - 1s 50us/step - loss: 0.9736 - accuracy: 0.6620 - val_loss: 1.2379 - val_accuracy: 0.5337\n",
      "Epoch 182/500\n",
      "12120/12120 [==============================] - 1s 50us/step - loss: 0.9778 - accuracy: 0.6618 - val_loss: 1.1589 - val_accuracy: 0.5380\n",
      "Epoch 183/500\n",
      "12120/12120 [==============================] - 1s 51us/step - loss: 0.9624 - accuracy: 0.6638 - val_loss: 1.1791 - val_accuracy: 0.5480\n",
      "Epoch 184/500\n",
      "12120/12120 [==============================] - 1s 51us/step - loss: 0.9986 - accuracy: 0.6466 - val_loss: 1.1319 - val_accuracy: 0.5723\n",
      "Epoch 185/500\n",
      "12120/12120 [==============================] - 1s 50us/step - loss: 0.9718 - accuracy: 0.6564 - val_loss: 1.1475 - val_accuracy: 0.5483\n",
      "Epoch 186/500\n",
      "12120/12120 [==============================] - 1s 52us/step - loss: 0.9726 - accuracy: 0.6618 - val_loss: 1.1088 - val_accuracy: 0.5660\n",
      "Epoch 187/500\n",
      "12120/12120 [==============================] - 1s 50us/step - loss: 0.9777 - accuracy: 0.6574 - val_loss: 1.2227 - val_accuracy: 0.4873\n",
      "Epoch 188/500\n",
      "12120/12120 [==============================] - 1s 50us/step - loss: 0.9742 - accuracy: 0.6580 - val_loss: 1.4604 - val_accuracy: 0.4693\n",
      "Epoch 189/500\n",
      "12120/12120 [==============================] - 1s 50us/step - loss: 0.9762 - accuracy: 0.6584 - val_loss: 1.3917 - val_accuracy: 0.4890\n",
      "Epoch 190/500\n",
      "12120/12120 [==============================] - 1s 63us/step - loss: 0.9745 - accuracy: 0.6578 - val_loss: 1.1940 - val_accuracy: 0.5357\n",
      "Epoch 191/500\n",
      "12120/12120 [==============================] - 1s 55us/step - loss: 0.9706 - accuracy: 0.6606 - val_loss: 1.1645 - val_accuracy: 0.5613\n",
      "Epoch 192/500\n",
      "12120/12120 [==============================] - 1s 55us/step - loss: 0.9772 - accuracy: 0.6555 - val_loss: 1.1485 - val_accuracy: 0.5480\n",
      "Epoch 193/500\n",
      "12120/12120 [==============================] - 1s 51us/step - loss: 0.9634 - accuracy: 0.6615 - val_loss: 1.1200 - val_accuracy: 0.5703\n",
      "Epoch 194/500\n",
      "12120/12120 [==============================] - 1s 51us/step - loss: 0.9725 - accuracy: 0.6560 - val_loss: 1.0887 - val_accuracy: 0.5570\n",
      "Epoch 195/500\n",
      "12120/12120 [==============================] - 1s 52us/step - loss: 0.9794 - accuracy: 0.6634 - val_loss: 1.1674 - val_accuracy: 0.5540\n",
      "Epoch 196/500\n",
      "12120/12120 [==============================] - 1s 51us/step - loss: 0.9522 - accuracy: 0.6681 - val_loss: 1.1762 - val_accuracy: 0.5273\n",
      "Epoch 197/500\n",
      "12120/12120 [==============================] - 1s 52us/step - loss: 0.9802 - accuracy: 0.6565 - val_loss: 1.1265 - val_accuracy: 0.5647\n",
      "Epoch 198/500\n",
      "12120/12120 [==============================] - 1s 52us/step - loss: 0.9747 - accuracy: 0.6577 - val_loss: 1.1105 - val_accuracy: 0.5620\n",
      "Epoch 199/500\n",
      "12120/12120 [==============================] - 1s 52us/step - loss: 0.9684 - accuracy: 0.6642 - val_loss: 1.2329 - val_accuracy: 0.5350\n",
      "Epoch 200/500\n",
      "12120/12120 [==============================] - 1s 49us/step - loss: 0.9700 - accuracy: 0.6589 - val_loss: 1.0987 - val_accuracy: 0.5670\n",
      "Epoch 201/500\n",
      "12120/12120 [==============================] - 1s 51us/step - loss: 0.9661 - accuracy: 0.6581 - val_loss: 1.1947 - val_accuracy: 0.5423\n",
      "Epoch 202/500\n",
      "12120/12120 [==============================] - 1s 49us/step - loss: 0.9724 - accuracy: 0.6588 - val_loss: 1.1453 - val_accuracy: 0.5680\n",
      "Epoch 203/500\n",
      "12120/12120 [==============================] - 1s 49us/step - loss: 0.9627 - accuracy: 0.6629 - val_loss: 1.1390 - val_accuracy: 0.5577\n",
      "Epoch 204/500\n",
      "12120/12120 [==============================] - 1s 54us/step - loss: 0.9532 - accuracy: 0.6705 - val_loss: 1.2183 - val_accuracy: 0.5010\n",
      "Epoch 205/500\n",
      "12120/12120 [==============================] - 1s 48us/step - loss: 0.9608 - accuracy: 0.6596 - val_loss: 1.1756 - val_accuracy: 0.5467\n",
      "Epoch 206/500\n",
      "12120/12120 [==============================] - 1s 48us/step - loss: 0.9641 - accuracy: 0.6674 - val_loss: 1.1840 - val_accuracy: 0.5030\n",
      "Epoch 207/500\n",
      "12120/12120 [==============================] - 1s 48us/step - loss: 0.9585 - accuracy: 0.6649 - val_loss: 1.0766 - val_accuracy: 0.5737\n",
      "Epoch 208/500\n",
      "12120/12120 [==============================] - 1s 55us/step - loss: 0.9527 - accuracy: 0.6616 - val_loss: 1.1460 - val_accuracy: 0.5450\n",
      "Epoch 209/500\n",
      "12120/12120 [==============================] - 1s 50us/step - loss: 0.9589 - accuracy: 0.6673 - val_loss: 1.1636 - val_accuracy: 0.5397\n",
      "Epoch 210/500\n",
      "12120/12120 [==============================] - 1s 49us/step - loss: 0.9609 - accuracy: 0.6589 - val_loss: 1.1620 - val_accuracy: 0.5113\n",
      "Epoch 211/500\n",
      "12120/12120 [==============================] - 1s 49us/step - loss: 0.9548 - accuracy: 0.6645 - val_loss: 1.2775 - val_accuracy: 0.5210\n",
      "Epoch 212/500\n",
      "12120/12120 [==============================] - 1s 48us/step - loss: 0.9545 - accuracy: 0.6653 - val_loss: 1.2843 - val_accuracy: 0.5087\n",
      "Epoch 213/500\n",
      "12120/12120 [==============================] - 1s 49us/step - loss: 0.9641 - accuracy: 0.6651 - val_loss: 1.1256 - val_accuracy: 0.5630\n",
      "Epoch 214/500\n",
      "12120/12120 [==============================] - 1s 47us/step - loss: 0.9534 - accuracy: 0.6668 - val_loss: 1.3702 - val_accuracy: 0.4220\n",
      "Epoch 215/500\n",
      "12120/12120 [==============================] - 1s 49us/step - loss: 0.9534 - accuracy: 0.6642 - val_loss: 1.2443 - val_accuracy: 0.5470\n",
      "Epoch 216/500\n",
      "12120/12120 [==============================] - 1s 51us/step - loss: 0.9605 - accuracy: 0.6645 - val_loss: 1.0906 - val_accuracy: 0.5810\n",
      "Epoch 217/500\n",
      "12120/12120 [==============================] - 1s 51us/step - loss: 0.9505 - accuracy: 0.6717 - val_loss: 1.1079 - val_accuracy: 0.5753\n",
      "Epoch 218/500\n",
      "12120/12120 [==============================] - 1s 48us/step - loss: 0.9462 - accuracy: 0.6731 - val_loss: 1.1485 - val_accuracy: 0.5593\n"
     ]
    },
    {
     "name": "stdout",
     "output_type": "stream",
     "text": [
      "Epoch 219/500\n",
      "12120/12120 [==============================] - 1s 49us/step - loss: 0.9634 - accuracy: 0.6568 - val_loss: 1.1185 - val_accuracy: 0.5643\n",
      "Epoch 220/500\n",
      "12120/12120 [==============================] - 1s 48us/step - loss: 0.9518 - accuracy: 0.6666 - val_loss: 1.3310 - val_accuracy: 0.5140\n",
      "Epoch 221/500\n",
      "12120/12120 [==============================] - 1s 49us/step - loss: 0.9647 - accuracy: 0.6623 - val_loss: 1.1317 - val_accuracy: 0.5450\n",
      "Epoch 222/500\n",
      "12120/12120 [==============================] - 1s 48us/step - loss: 0.9493 - accuracy: 0.6682 - val_loss: 1.1632 - val_accuracy: 0.5520\n",
      "Epoch 223/500\n",
      "12120/12120 [==============================] - 1s 48us/step - loss: 0.9498 - accuracy: 0.6644 - val_loss: 1.0972 - val_accuracy: 0.5640\n",
      "Epoch 224/500\n",
      "12120/12120 [==============================] - 1s 50us/step - loss: 0.9431 - accuracy: 0.6692 - val_loss: 1.2514 - val_accuracy: 0.5383\n",
      "Epoch 225/500\n",
      "12120/12120 [==============================] - 1s 51us/step - loss: 0.9486 - accuracy: 0.6673 - val_loss: 1.1455 - val_accuracy: 0.5770\n",
      "Epoch 226/500\n",
      "12120/12120 [==============================] - 1s 52us/step - loss: 0.9407 - accuracy: 0.6722 - val_loss: 1.2047 - val_accuracy: 0.5497\n",
      "Epoch 227/500\n",
      "12120/12120 [==============================] - 1s 48us/step - loss: 0.9461 - accuracy: 0.6699 - val_loss: 1.1114 - val_accuracy: 0.5460\n",
      "Epoch 228/500\n",
      "12120/12120 [==============================] - 1s 51us/step - loss: 0.9581 - accuracy: 0.6647 - val_loss: 1.0814 - val_accuracy: 0.5900\n",
      "Epoch 229/500\n",
      "12120/12120 [==============================] - 1s 63us/step - loss: 0.9364 - accuracy: 0.6715 - val_loss: 1.1620 - val_accuracy: 0.5677\n",
      "Epoch 230/500\n",
      "12120/12120 [==============================] - 1s 75us/step - loss: 0.9517 - accuracy: 0.6741 - val_loss: 1.1487 - val_accuracy: 0.5417\n",
      "Epoch 231/500\n",
      "12120/12120 [==============================] - 1s 58us/step - loss: 0.9356 - accuracy: 0.6743 - val_loss: 1.1138 - val_accuracy: 0.5690\n",
      "Epoch 232/500\n",
      "12120/12120 [==============================] - 1s 60us/step - loss: 0.9535 - accuracy: 0.6690 - val_loss: 1.1781 - val_accuracy: 0.5593\n",
      "Epoch 233/500\n",
      "12120/12120 [==============================] - 1s 51us/step - loss: 0.9319 - accuracy: 0.6757 - val_loss: 1.1232 - val_accuracy: 0.5570\n",
      "Epoch 234/500\n",
      "12120/12120 [==============================] - 1s 50us/step - loss: 0.9510 - accuracy: 0.6696 - val_loss: 1.1262 - val_accuracy: 0.5693\n",
      "Epoch 235/500\n",
      "12120/12120 [==============================] - 1s 48us/step - loss: 0.9348 - accuracy: 0.6723 - val_loss: 1.1290 - val_accuracy: 0.5693\n",
      "Epoch 236/500\n",
      "12120/12120 [==============================] - 1s 48us/step - loss: 0.9363 - accuracy: 0.6677 - val_loss: 1.3638 - val_accuracy: 0.5097\n",
      "Epoch 237/500\n",
      "12120/12120 [==============================] - 1s 75us/step - loss: 0.9511 - accuracy: 0.6687 - val_loss: 1.0837 - val_accuracy: 0.5757\n",
      "Epoch 238/500\n",
      "12120/12120 [==============================] - 1s 52us/step - loss: 0.9331 - accuracy: 0.6750 - val_loss: 1.3463 - val_accuracy: 0.5200\n",
      "Epoch 239/500\n",
      "12120/12120 [==============================] - 1s 54us/step - loss: 0.9504 - accuracy: 0.6681 - val_loss: 1.3844 - val_accuracy: 0.4650\n",
      "Epoch 240/500\n",
      "12120/12120 [==============================] - 1s 58us/step - loss: 0.9493 - accuracy: 0.6677 - val_loss: 1.1528 - val_accuracy: 0.5347\n",
      "Epoch 241/500\n",
      "12120/12120 [==============================] - 1s 83us/step - loss: 0.9291 - accuracy: 0.6736 - val_loss: 1.5088 - val_accuracy: 0.4517\n",
      "Epoch 242/500\n",
      "12120/12120 [==============================] - 1s 83us/step - loss: 0.9415 - accuracy: 0.6747 - val_loss: 1.2277 - val_accuracy: 0.5420\n",
      "Epoch 243/500\n",
      "12120/12120 [==============================] - 1s 85us/step - loss: 0.9464 - accuracy: 0.6644 - val_loss: 1.0502 - val_accuracy: 0.5957\n",
      "Epoch 244/500\n",
      "12120/12120 [==============================] - 1s 72us/step - loss: 0.9176 - accuracy: 0.6808 - val_loss: 1.1539 - val_accuracy: 0.5660\n",
      "Epoch 245/500\n",
      "12120/12120 [==============================] - 1s 66us/step - loss: 0.9304 - accuracy: 0.6789 - val_loss: 1.2400 - val_accuracy: 0.5397\n",
      "Epoch 246/500\n",
      "12120/12120 [==============================] - 1s 60us/step - loss: 0.9405 - accuracy: 0.6762 - val_loss: 1.1194 - val_accuracy: 0.5660\n",
      "Epoch 247/500\n",
      "12120/12120 [==============================] - 1s 61us/step - loss: 0.9405 - accuracy: 0.6700 - val_loss: 1.0676 - val_accuracy: 0.5847\n",
      "Epoch 248/500\n",
      "12120/12120 [==============================] - 1s 55us/step - loss: 0.9356 - accuracy: 0.6828 - val_loss: 1.1256 - val_accuracy: 0.5477\n",
      "Epoch 249/500\n",
      "12120/12120 [==============================] - 1s 66us/step - loss: 0.9323 - accuracy: 0.6761 - val_loss: 1.1387 - val_accuracy: 0.5633\n",
      "Epoch 250/500\n",
      "12120/12120 [==============================] - 1s 65us/step - loss: 0.9235 - accuracy: 0.6794 - val_loss: 1.1861 - val_accuracy: 0.5360\n",
      "Epoch 251/500\n",
      "12120/12120 [==============================] - 1s 56us/step - loss: 0.9270 - accuracy: 0.6722 - val_loss: 1.2153 - val_accuracy: 0.5507\n",
      "Epoch 252/500\n",
      "12120/12120 [==============================] - 1s 72us/step - loss: 0.9283 - accuracy: 0.6774 - val_loss: 1.3188 - val_accuracy: 0.5010\n",
      "Epoch 253/500\n",
      "12120/12120 [==============================] - 1s 58us/step - loss: 0.9325 - accuracy: 0.6699 - val_loss: 1.2764 - val_accuracy: 0.5243\n",
      "Epoch 254/500\n",
      "12120/12120 [==============================] - 1s 52us/step - loss: 0.9373 - accuracy: 0.6735 - val_loss: 1.2639 - val_accuracy: 0.5297\n",
      "Epoch 255/500\n",
      "12120/12120 [==============================] - 1s 70us/step - loss: 0.9303 - accuracy: 0.6752 - val_loss: 1.1264 - val_accuracy: 0.5153\n",
      "Epoch 256/500\n",
      "12120/12120 [==============================] - 1s 61us/step - loss: 0.9288 - accuracy: 0.6756 - val_loss: 1.3820 - val_accuracy: 0.4947\n",
      "Epoch 257/500\n",
      "12120/12120 [==============================] - 1s 55us/step - loss: 0.9347 - accuracy: 0.6682 - val_loss: 1.3025 - val_accuracy: 0.5247\n",
      "Epoch 258/500\n",
      "12120/12120 [==============================] - 1s 56us/step - loss: 0.9224 - accuracy: 0.6781 - val_loss: 1.1204 - val_accuracy: 0.5693\n",
      "Epoch 259/500\n",
      "12120/12120 [==============================] - 1s 54us/step - loss: 0.9249 - accuracy: 0.6820 - val_loss: 1.0824 - val_accuracy: 0.5893\n",
      "Epoch 260/500\n",
      "12120/12120 [==============================] - 1s 56us/step - loss: 0.9289 - accuracy: 0.6763 - val_loss: 1.1487 - val_accuracy: 0.5707\n",
      "Epoch 261/500\n",
      "12120/12120 [==============================] - 1s 57us/step - loss: 0.9183 - accuracy: 0.6755 - val_loss: 1.1320 - val_accuracy: 0.5333\n",
      "Epoch 262/500\n",
      "12120/12120 [==============================] - 1s 54us/step - loss: 0.9367 - accuracy: 0.6738 - val_loss: 1.0786 - val_accuracy: 0.5810\n",
      "Epoch 263/500\n",
      "12120/12120 [==============================] - 1s 55us/step - loss: 0.9237 - accuracy: 0.6752 - val_loss: 1.0224 - val_accuracy: 0.6030\n",
      "Epoch 264/500\n",
      "12120/12120 [==============================] - 1s 51us/step - loss: 0.9284 - accuracy: 0.6779 - val_loss: 1.0846 - val_accuracy: 0.5617\n",
      "Epoch 265/500\n",
      "12120/12120 [==============================] - 1s 53us/step - loss: 0.9103 - accuracy: 0.6823 - val_loss: 1.1862 - val_accuracy: 0.5220\n",
      "Epoch 266/500\n",
      "12120/12120 [==============================] - 1s 51us/step - loss: 0.9223 - accuracy: 0.6773 - val_loss: 1.2290 - val_accuracy: 0.4890\n",
      "Epoch 267/500\n",
      "12120/12120 [==============================] - 1s 51us/step - loss: 0.9231 - accuracy: 0.6764 - val_loss: 1.2199 - val_accuracy: 0.5310\n",
      "Epoch 268/500\n",
      "12120/12120 [==============================] - 1s 53us/step - loss: 0.9246 - accuracy: 0.6781 - val_loss: 1.1113 - val_accuracy: 0.5623\n",
      "Epoch 269/500\n",
      "12120/12120 [==============================] - 1s 51us/step - loss: 0.9168 - accuracy: 0.6800 - val_loss: 1.1099 - val_accuracy: 0.5597\n",
      "Epoch 270/500\n",
      "12120/12120 [==============================] - 1s 50us/step - loss: 0.9271 - accuracy: 0.6809 - val_loss: 1.0802 - val_accuracy: 0.5700\n",
      "Epoch 271/500\n",
      "12120/12120 [==============================] - 1s 53us/step - loss: 0.9172 - accuracy: 0.6795 - val_loss: 1.1225 - val_accuracy: 0.5670\n",
      "Epoch 272/500\n",
      "12120/12120 [==============================] - 1s 51us/step - loss: 0.9175 - accuracy: 0.6829 - val_loss: 1.0536 - val_accuracy: 0.6050\n",
      "Epoch 273/500\n",
      "12120/12120 [==============================] - 1s 57us/step - loss: 0.9111 - accuracy: 0.6821 - val_loss: 1.2998 - val_accuracy: 0.5287\n",
      "Epoch 274/500\n",
      "12120/12120 [==============================] - 1s 53us/step - loss: 0.9300 - accuracy: 0.6762 - val_loss: 1.0676 - val_accuracy: 0.5807\n",
      "Epoch 275/500\n",
      "12120/12120 [==============================] - 1s 57us/step - loss: 0.9264 - accuracy: 0.6757 - val_loss: 1.0818 - val_accuracy: 0.5760\n",
      "Epoch 276/500\n",
      "12120/12120 [==============================] - 1s 52us/step - loss: 0.9071 - accuracy: 0.6825 - val_loss: 1.0706 - val_accuracy: 0.5637\n",
      "Epoch 277/500\n",
      "12120/12120 [==============================] - 1s 52us/step - loss: 0.9242 - accuracy: 0.6759 - val_loss: 1.3974 - val_accuracy: 0.4780\n",
      "Epoch 278/500\n",
      "12120/12120 [==============================] - 1s 50us/step - loss: 0.9235 - accuracy: 0.6800 - val_loss: 1.1510 - val_accuracy: 0.5670\n",
      "Epoch 279/500\n",
      "12120/12120 [==============================] - 1s 52us/step - loss: 0.9153 - accuracy: 0.6791 - val_loss: 1.0843 - val_accuracy: 0.5633\n",
      "Epoch 280/500\n",
      "12120/12120 [==============================] - 1s 52us/step - loss: 0.9122 - accuracy: 0.6807 - val_loss: 1.1403 - val_accuracy: 0.5540\n",
      "Epoch 281/500\n",
      "12120/12120 [==============================] - 1s 51us/step - loss: 0.9140 - accuracy: 0.6825 - val_loss: 1.1903 - val_accuracy: 0.4943\n",
      "Epoch 282/500\n",
      "12120/12120 [==============================] - 1s 52us/step - loss: 0.9170 - accuracy: 0.6817 - val_loss: 1.1333 - val_accuracy: 0.5510\n",
      "Epoch 283/500\n",
      "12120/12120 [==============================] - 1s 50us/step - loss: 0.9176 - accuracy: 0.6831 - val_loss: 1.0950 - val_accuracy: 0.5797\n",
      "Epoch 284/500\n",
      "12120/12120 [==============================] - 1s 53us/step - loss: 0.9152 - accuracy: 0.6801 - val_loss: 1.2545 - val_accuracy: 0.5493\n",
      "Epoch 285/500\n",
      "12120/12120 [==============================] - 1s 54us/step - loss: 0.9224 - accuracy: 0.6781 - val_loss: 1.1654 - val_accuracy: 0.5720\n",
      "Epoch 286/500\n",
      "12120/12120 [==============================] - 1s 56us/step - loss: 0.9121 - accuracy: 0.6818 - val_loss: 1.0637 - val_accuracy: 0.5823\n",
      "Epoch 287/500\n",
      "12120/12120 [==============================] - 1s 54us/step - loss: 0.9200 - accuracy: 0.6738 - val_loss: 1.1608 - val_accuracy: 0.5403\n",
      "Epoch 288/500\n",
      "12120/12120 [==============================] - 1s 53us/step - loss: 0.9071 - accuracy: 0.6853 - val_loss: 1.1289 - val_accuracy: 0.5910\n",
      "Epoch 289/500\n",
      "12120/12120 [==============================] - 1s 52us/step - loss: 0.9134 - accuracy: 0.6817 - val_loss: 1.1149 - val_accuracy: 0.5690\n",
      "Epoch 290/500\n",
      "12120/12120 [==============================] - 1s 52us/step - loss: 0.9099 - accuracy: 0.6875 - val_loss: 1.0874 - val_accuracy: 0.5893\n",
      "Epoch 291/500\n",
      "12120/12120 [==============================] - 1s 51us/step - loss: 0.9055 - accuracy: 0.6837 - val_loss: 1.1448 - val_accuracy: 0.5433\n",
      "Epoch 292/500\n",
      "12120/12120 [==============================] - 1s 51us/step - loss: 0.9237 - accuracy: 0.6749 - val_loss: 1.0984 - val_accuracy: 0.5967\n",
      "Epoch 293/500\n",
      "12120/12120 [==============================] - 1s 55us/step - loss: 0.9133 - accuracy: 0.6823 - val_loss: 1.6862 - val_accuracy: 0.4133\n",
      "Epoch 294/500\n",
      "12120/12120 [==============================] - 1s 50us/step - loss: 0.9072 - accuracy: 0.6851 - val_loss: 1.2179 - val_accuracy: 0.5600\n",
      "Epoch 295/500\n",
      "12120/12120 [==============================] - 1s 53us/step - loss: 0.9170 - accuracy: 0.6750 - val_loss: 1.2516 - val_accuracy: 0.5270\n",
      "Epoch 296/500\n",
      "12120/12120 [==============================] - 1s 51us/step - loss: 0.8937 - accuracy: 0.6909 - val_loss: 1.1379 - val_accuracy: 0.5840\n",
      "Epoch 297/500\n",
      "12120/12120 [==============================] - 1s 51us/step - loss: 0.9154 - accuracy: 0.6851 - val_loss: 1.0813 - val_accuracy: 0.5957\n",
      "Epoch 298/500\n",
      "12120/12120 [==============================] - 1s 51us/step - loss: 0.9090 - accuracy: 0.6856 - val_loss: 1.1418 - val_accuracy: 0.5697\n",
      "Epoch 299/500\n",
      "12120/12120 [==============================] - 1s 50us/step - loss: 0.9169 - accuracy: 0.6815 - val_loss: 1.0957 - val_accuracy: 0.5580\n",
      "Epoch 300/500\n",
      "12120/12120 [==============================] - 1s 51us/step - loss: 0.9031 - accuracy: 0.6826 - val_loss: 1.2428 - val_accuracy: 0.5563\n",
      "Epoch 301/500\n",
      "12120/12120 [==============================] - 1s 49us/step - loss: 0.9106 - accuracy: 0.6807 - val_loss: 1.2724 - val_accuracy: 0.5360\n",
      "Epoch 302/500\n",
      "12120/12120 [==============================] - 1s 51us/step - loss: 0.9204 - accuracy: 0.6783 - val_loss: 1.1284 - val_accuracy: 0.5457\n",
      "Epoch 303/500\n",
      "12120/12120 [==============================] - 1s 51us/step - loss: 0.9152 - accuracy: 0.6814 - val_loss: 1.1453 - val_accuracy: 0.5763\n",
      "Epoch 304/500\n",
      "12120/12120 [==============================] - 1s 50us/step - loss: 0.9077 - accuracy: 0.6861 - val_loss: 1.0808 - val_accuracy: 0.5787\n",
      "Epoch 305/500\n",
      "12120/12120 [==============================] - 1s 51us/step - loss: 0.9009 - accuracy: 0.6851 - val_loss: 1.2653 - val_accuracy: 0.5423\n",
      "Epoch 306/500\n",
      "12120/12120 [==============================] - 1s 51us/step - loss: 0.9072 - accuracy: 0.6835 - val_loss: 1.0815 - val_accuracy: 0.5707\n",
      "Epoch 307/500\n",
      "12120/12120 [==============================] - 1s 50us/step - loss: 0.9098 - accuracy: 0.6821 - val_loss: 1.1501 - val_accuracy: 0.5603\n",
      "Epoch 308/500\n",
      "12120/12120 [==============================] - 1s 50us/step - loss: 0.9117 - accuracy: 0.6827 - val_loss: 1.0635 - val_accuracy: 0.6017\n",
      "Epoch 309/500\n",
      "12120/12120 [==============================] - 1s 50us/step - loss: 0.8967 - accuracy: 0.6879 - val_loss: 1.1820 - val_accuracy: 0.5487\n",
      "Epoch 310/500\n",
      "12120/12120 [==============================] - ETA: 0s - loss: 0.9022 - accuracy: 0.69 - 1s 54us/step - loss: 0.9006 - accuracy: 0.6899 - val_loss: 1.3144 - val_accuracy: 0.5080\n",
      "Epoch 311/500\n",
      "12120/12120 [==============================] - 1s 61us/step - loss: 0.9053 - accuracy: 0.6882 - val_loss: 1.0607 - val_accuracy: 0.5557\n",
      "Epoch 312/500\n",
      "12120/12120 [==============================] - 1s 53us/step - loss: 0.9123 - accuracy: 0.6865 - val_loss: 1.1088 - val_accuracy: 0.5733\n",
      "Epoch 313/500\n",
      "12120/12120 [==============================] - 1s 52us/step - loss: 0.9068 - accuracy: 0.6795 - val_loss: 1.0814 - val_accuracy: 0.5773\n",
      "Epoch 314/500\n",
      "12120/12120 [==============================] - 1s 51us/step - loss: 0.8986 - accuracy: 0.6883 - val_loss: 1.1524 - val_accuracy: 0.5450\n",
      "Epoch 315/500\n",
      "12120/12120 [==============================] - 1s 50us/step - loss: 0.9026 - accuracy: 0.6843 - val_loss: 1.0473 - val_accuracy: 0.6063\n",
      "Epoch 316/500\n",
      "12120/12120 [==============================] - 1s 51us/step - loss: 0.9046 - accuracy: 0.6837 - val_loss: 1.0847 - val_accuracy: 0.6003\n",
      "Epoch 317/500\n",
      "12120/12120 [==============================] - 1s 50us/step - loss: 0.8969 - accuracy: 0.6866 - val_loss: 1.2513 - val_accuracy: 0.5217\n",
      "Epoch 318/500\n",
      "12120/12120 [==============================] - 1s 50us/step - loss: 0.9013 - accuracy: 0.6828 - val_loss: 1.4349 - val_accuracy: 0.5117\n",
      "Epoch 319/500\n",
      "12120/12120 [==============================] - 1s 50us/step - loss: 0.9000 - accuracy: 0.6858 - val_loss: 1.3167 - val_accuracy: 0.5237\n",
      "Epoch 320/500\n",
      "12120/12120 [==============================] - 1s 50us/step - loss: 0.9015 - accuracy: 0.6860 - val_loss: 1.0458 - val_accuracy: 0.5863\n",
      "Epoch 321/500\n",
      "12120/12120 [==============================] - 1s 49us/step - loss: 0.8930 - accuracy: 0.6913 - val_loss: 1.0258 - val_accuracy: 0.6193\n",
      "Epoch 322/500\n",
      "12120/12120 [==============================] - 1s 50us/step - loss: 0.8983 - accuracy: 0.6850 - val_loss: 1.5011 - val_accuracy: 0.4733\n",
      "Epoch 323/500\n",
      "12120/12120 [==============================] - 1s 50us/step - loss: 0.8962 - accuracy: 0.6882 - val_loss: 1.0690 - val_accuracy: 0.5770\n",
      "Epoch 324/500\n",
      "12120/12120 [==============================] - 1s 50us/step - loss: 0.9015 - accuracy: 0.6846 - val_loss: 1.0611 - val_accuracy: 0.5813\n",
      "Epoch 325/500\n",
      "12120/12120 [==============================] - 1s 50us/step - loss: 0.8950 - accuracy: 0.6858 - val_loss: 1.3167 - val_accuracy: 0.5327\n",
      "Epoch 326/500\n",
      "12120/12120 [==============================] - 1s 50us/step - loss: 0.8993 - accuracy: 0.6880 - val_loss: 1.1766 - val_accuracy: 0.5507\n",
      "Epoch 327/500\n"
     ]
    },
    {
     "name": "stdout",
     "output_type": "stream",
     "text": [
      "12120/12120 [==============================] - 1s 52us/step - loss: 0.8915 - accuracy: 0.6953 - val_loss: 1.0607 - val_accuracy: 0.5873\n",
      "Epoch 328/500\n",
      "12120/12120 [==============================] - 1s 51us/step - loss: 0.9014 - accuracy: 0.6893 - val_loss: 1.2433 - val_accuracy: 0.5440\n",
      "Epoch 329/500\n",
      "12120/12120 [==============================] - 1s 53us/step - loss: 0.9018 - accuracy: 0.6880 - val_loss: 1.1226 - val_accuracy: 0.5850\n",
      "Epoch 330/500\n",
      "12120/12120 [==============================] - 1s 54us/step - loss: 0.8916 - accuracy: 0.6923 - val_loss: 1.0808 - val_accuracy: 0.5737\n",
      "Epoch 331/500\n",
      "12120/12120 [==============================] - 1s 52us/step - loss: 0.8984 - accuracy: 0.6867 - val_loss: 1.4662 - val_accuracy: 0.4743\n",
      "Epoch 332/500\n",
      "12120/12120 [==============================] - 1s 52us/step - loss: 0.8977 - accuracy: 0.6850 - val_loss: 1.2782 - val_accuracy: 0.5407\n",
      "Epoch 333/500\n",
      "12120/12120 [==============================] - 1s 51us/step - loss: 0.8900 - accuracy: 0.6929 - val_loss: 1.0856 - val_accuracy: 0.5843\n",
      "Epoch 334/500\n",
      "12120/12120 [==============================] - 1s 51us/step - loss: 0.8828 - accuracy: 0.6954 - val_loss: 1.1373 - val_accuracy: 0.5413\n",
      "Epoch 335/500\n",
      "12120/12120 [==============================] - 1s 55us/step - loss: 0.9069 - accuracy: 0.6887 - val_loss: 1.1222 - val_accuracy: 0.5687\n",
      "Epoch 336/500\n",
      "12120/12120 [==============================] - 1s 55us/step - loss: 0.8928 - accuracy: 0.6897 - val_loss: 1.1387 - val_accuracy: 0.5723\n",
      "Epoch 337/500\n",
      "12120/12120 [==============================] - 1s 54us/step - loss: 0.8921 - accuracy: 0.6894 - val_loss: 1.1958 - val_accuracy: 0.5357\n",
      "Epoch 338/500\n",
      "12120/12120 [==============================] - 1s 51us/step - loss: 0.8951 - accuracy: 0.6840 - val_loss: 1.3195 - val_accuracy: 0.5243\n",
      "Epoch 339/500\n",
      "12120/12120 [==============================] - 1s 52us/step - loss: 0.8948 - accuracy: 0.6907 - val_loss: 1.1183 - val_accuracy: 0.5817\n",
      "Epoch 340/500\n",
      "12120/12120 [==============================] - 1s 51us/step - loss: 0.8869 - accuracy: 0.6941 - val_loss: 1.1240 - val_accuracy: 0.5923\n",
      "Epoch 341/500\n",
      "12120/12120 [==============================] - 1s 50us/step - loss: 0.8849 - accuracy: 0.6976 - val_loss: 1.1077 - val_accuracy: 0.5880\n",
      "Epoch 342/500\n",
      "12120/12120 [==============================] - 1s 51us/step - loss: 0.8965 - accuracy: 0.6889 - val_loss: 1.0790 - val_accuracy: 0.5917\n",
      "Epoch 343/500\n",
      "12120/12120 [==============================] - 1s 52us/step - loss: 0.8901 - accuracy: 0.6945 - val_loss: 1.2664 - val_accuracy: 0.5457\n",
      "Epoch 344/500\n",
      "12120/12120 [==============================] - 1s 52us/step - loss: 0.8880 - accuracy: 0.6903 - val_loss: 1.4041 - val_accuracy: 0.5033\n",
      "Epoch 345/500\n",
      "12120/12120 [==============================] - 1s 51us/step - loss: 0.8811 - accuracy: 0.6932 - val_loss: 1.2515 - val_accuracy: 0.5427\n",
      "Epoch 346/500\n",
      "12120/12120 [==============================] - 1s 51us/step - loss: 0.8993 - accuracy: 0.6899 - val_loss: 1.2690 - val_accuracy: 0.5340\n",
      "Epoch 347/500\n",
      "12120/12120 [==============================] - 1s 53us/step - loss: 0.8800 - accuracy: 0.6947 - val_loss: 1.0959 - val_accuracy: 0.5843\n",
      "Epoch 348/500\n",
      "12120/12120 [==============================] - 1s 52us/step - loss: 0.8957 - accuracy: 0.6867 - val_loss: 1.1326 - val_accuracy: 0.5853\n",
      "Epoch 349/500\n",
      "12120/12120 [==============================] - 1s 51us/step - loss: 0.8833 - accuracy: 0.6933 - val_loss: 1.4265 - val_accuracy: 0.4990\n",
      "Epoch 350/500\n",
      "12120/12120 [==============================] - 1s 57us/step - loss: 0.8921 - accuracy: 0.6880 - val_loss: 1.1055 - val_accuracy: 0.5753\n",
      "Epoch 351/500\n",
      "12120/12120 [==============================] - 1s 52us/step - loss: 0.8987 - accuracy: 0.6859 - val_loss: 1.0899 - val_accuracy: 0.5787\n",
      "Epoch 352/500\n",
      "12120/12120 [==============================] - 1s 52us/step - loss: 0.8857 - accuracy: 0.6889 - val_loss: 1.2587 - val_accuracy: 0.5370\n",
      "Epoch 353/500\n",
      "12120/12120 [==============================] - 1s 50us/step - loss: 0.8801 - accuracy: 0.6956 - val_loss: 1.2791 - val_accuracy: 0.5360\n",
      "Epoch 354/500\n",
      "12120/12120 [==============================] - 1s 53us/step - loss: 0.8919 - accuracy: 0.6861 - val_loss: 1.2213 - val_accuracy: 0.5443\n",
      "Epoch 355/500\n",
      "12120/12120 [==============================] - 1s 54us/step - loss: 0.8891 - accuracy: 0.6869 - val_loss: 1.0543 - val_accuracy: 0.5903\n",
      "Epoch 356/500\n",
      "12120/12120 [==============================] - 1s 53us/step - loss: 0.8794 - accuracy: 0.6959 - val_loss: 1.0629 - val_accuracy: 0.6053\n",
      "Epoch 357/500\n",
      "12120/12120 [==============================] - 1s 55us/step - loss: 0.8893 - accuracy: 0.6899 - val_loss: 1.0981 - val_accuracy: 0.5780\n",
      "Epoch 358/500\n",
      "12120/12120 [==============================] - 1s 53us/step - loss: 0.8960 - accuracy: 0.6842 - val_loss: 1.1190 - val_accuracy: 0.5657\n",
      "Epoch 359/500\n",
      "12120/12120 [==============================] - 1s 55us/step - loss: 0.8825 - accuracy: 0.6972 - val_loss: 1.1155 - val_accuracy: 0.5677\n",
      "Epoch 360/500\n",
      "12120/12120 [==============================] - 1s 61us/step - loss: 0.8692 - accuracy: 0.7004 - val_loss: 1.2242 - val_accuracy: 0.5633\n",
      "Epoch 361/500\n",
      "12120/12120 [==============================] - 1s 57us/step - loss: 0.8905 - accuracy: 0.6880 - val_loss: 1.0896 - val_accuracy: 0.5873\n",
      "Epoch 362/500\n",
      "12120/12120 [==============================] - 1s 57us/step - loss: 0.8823 - accuracy: 0.6908 - val_loss: 1.2660 - val_accuracy: 0.4987\n",
      "Epoch 363/500\n",
      "12120/12120 [==============================] - 1s 53us/step - loss: 0.8984 - accuracy: 0.6904 - val_loss: 1.1099 - val_accuracy: 0.5710\n",
      "Epoch 364/500\n",
      "12120/12120 [==============================] - 1s 55us/step - loss: 0.8884 - accuracy: 0.6929 - val_loss: 1.3536 - val_accuracy: 0.5110\n",
      "Epoch 365/500\n",
      "12120/12120 [==============================] - 1s 58us/step - loss: 0.8755 - accuracy: 0.6969 - val_loss: 1.1591 - val_accuracy: 0.5670\n",
      "Epoch 366/500\n",
      "12120/12120 [==============================] - 1s 73us/step - loss: 0.8782 - accuracy: 0.6940 - val_loss: 1.0452 - val_accuracy: 0.5967\n",
      "Epoch 367/500\n",
      "12120/12120 [==============================] - 1s 79us/step - loss: 0.8784 - accuracy: 0.6960 - val_loss: 1.0715 - val_accuracy: 0.5953\n",
      "Epoch 368/500\n",
      "12120/12120 [==============================] - 1s 76us/step - loss: 0.8911 - accuracy: 0.6829 - val_loss: 1.4915 - val_accuracy: 0.4853\n",
      "Epoch 369/500\n",
      "12120/12120 [==============================] - 1s 76us/step - loss: 0.8962 - accuracy: 0.6876 - val_loss: 1.1680 - val_accuracy: 0.5680\n",
      "Epoch 370/500\n",
      "12120/12120 [==============================] - 1s 75us/step - loss: 0.8748 - accuracy: 0.6949 - val_loss: 1.0545 - val_accuracy: 0.5853\n",
      "Epoch 371/500\n",
      "12120/12120 [==============================] - 1s 60us/step - loss: 0.8797 - accuracy: 0.6943 - val_loss: 1.0915 - val_accuracy: 0.5837\n",
      "Epoch 372/500\n",
      "12120/12120 [==============================] - 1s 73us/step - loss: 0.8821 - accuracy: 0.6966 - val_loss: 1.2190 - val_accuracy: 0.5560\n",
      "Epoch 373/500\n",
      "12120/12120 [==============================] - 1s 67us/step - loss: 0.8811 - accuracy: 0.6899 - val_loss: 1.1211 - val_accuracy: 0.5843\n",
      "Epoch 374/500\n",
      "12120/12120 [==============================] - 1s 70us/step - loss: 0.8738 - accuracy: 0.6956 - val_loss: 1.0924 - val_accuracy: 0.5860\n",
      "Epoch 375/500\n",
      "12120/12120 [==============================] - 1s 65us/step - loss: 0.8758 - accuracy: 0.6930 - val_loss: 1.2390 - val_accuracy: 0.5470\n",
      "Epoch 376/500\n",
      "12120/12120 [==============================] - 1s 57us/step - loss: 0.8843 - accuracy: 0.6902 - val_loss: 1.0374 - val_accuracy: 0.5917\n",
      "Epoch 377/500\n",
      "12120/12120 [==============================] - 1s 55us/step - loss: 0.8877 - accuracy: 0.6903 - val_loss: 1.1883 - val_accuracy: 0.5640\n",
      "Epoch 378/500\n",
      "12120/12120 [==============================] - 1s 58us/step - loss: 0.8722 - accuracy: 0.6964 - val_loss: 1.1058 - val_accuracy: 0.5707\n",
      "Epoch 379/500\n",
      "12120/12120 [==============================] - 1s 57us/step - loss: 0.8953 - accuracy: 0.6887 - val_loss: 1.1601 - val_accuracy: 0.5673\n",
      "Epoch 380/500\n",
      "12120/12120 [==============================] - 1s 58us/step - loss: 0.8790 - accuracy: 0.6894 - val_loss: 1.0427 - val_accuracy: 0.5990\n",
      "Epoch 381/500\n",
      "12120/12120 [==============================] - 1s 59us/step - loss: 0.8855 - accuracy: 0.6875 - val_loss: 1.0801 - val_accuracy: 0.5813\n"
     ]
    },
    {
     "name": "stdout",
     "output_type": "stream",
     "text": [
      "Epoch 382/500\n",
      "12120/12120 [==============================] - 1s 60us/step - loss: 0.8730 - accuracy: 0.6972 - val_loss: 1.1129 - val_accuracy: 0.5570\n",
      "Epoch 383/500\n",
      "12120/12120 [==============================] - 1s 56us/step - loss: 0.8870 - accuracy: 0.6877 - val_loss: 1.0825 - val_accuracy: 0.6043\n",
      "Epoch 384/500\n",
      "12120/12120 [==============================] - 1s 56us/step - loss: 0.8663 - accuracy: 0.6984 - val_loss: 1.6113 - val_accuracy: 0.4560\n",
      "Epoch 385/500\n",
      "12120/12120 [==============================] - 1s 58us/step - loss: 0.8785 - accuracy: 0.6904 - val_loss: 1.0105 - val_accuracy: 0.6033\n",
      "Epoch 386/500\n",
      "12120/12120 [==============================] - 1s 57us/step - loss: 0.8795 - accuracy: 0.6962 - val_loss: 1.4182 - val_accuracy: 0.4887\n",
      "Epoch 387/500\n",
      "12120/12120 [==============================] - 1s 54us/step - loss: 0.8748 - accuracy: 0.6988 - val_loss: 1.2287 - val_accuracy: 0.5600\n",
      "Epoch 388/500\n",
      "12120/12120 [==============================] - 1s 53us/step - loss: 0.8790 - accuracy: 0.6925 - val_loss: 1.3291 - val_accuracy: 0.5133\n",
      "Epoch 389/500\n",
      "12120/12120 [==============================] - 1s 52us/step - loss: 0.8755 - accuracy: 0.6917 - val_loss: 1.1981 - val_accuracy: 0.5553\n",
      "Epoch 390/500\n",
      "12120/12120 [==============================] - 1s 51us/step - loss: 0.8811 - accuracy: 0.6906 - val_loss: 1.0460 - val_accuracy: 0.5850\n",
      "Epoch 391/500\n",
      "12120/12120 [==============================] - 1s 52us/step - loss: 0.8780 - accuracy: 0.6966 - val_loss: 1.1355 - val_accuracy: 0.5793\n",
      "Epoch 392/500\n",
      "12120/12120 [==============================] - 1s 50us/step - loss: 0.8635 - accuracy: 0.7048 - val_loss: 1.2371 - val_accuracy: 0.5487\n",
      "Epoch 393/500\n",
      "12120/12120 [==============================] - 1s 51us/step - loss: 0.8862 - accuracy: 0.6878 - val_loss: 1.1138 - val_accuracy: 0.5700\n",
      "Epoch 394/500\n",
      "12120/12120 [==============================] - 1s 52us/step - loss: 0.8695 - accuracy: 0.6979 - val_loss: 1.3208 - val_accuracy: 0.5233\n",
      "Epoch 395/500\n",
      "12120/12120 [==============================] - 1s 51us/step - loss: 0.8763 - accuracy: 0.6946 - val_loss: 1.0938 - val_accuracy: 0.5777\n",
      "Epoch 396/500\n",
      "12120/12120 [==============================] - 1s 53us/step - loss: 0.8698 - accuracy: 0.6932 - val_loss: 1.3510 - val_accuracy: 0.5083\n",
      "Epoch 397/500\n",
      "12120/12120 [==============================] - 1s 52us/step - loss: 0.8718 - accuracy: 0.6930 - val_loss: 1.1210 - val_accuracy: 0.5850\n",
      "Epoch 398/500\n",
      "12120/12120 [==============================] - 1s 51us/step - loss: 0.8845 - accuracy: 0.6964 - val_loss: 1.2807 - val_accuracy: 0.5270\n",
      "Epoch 399/500\n",
      "12120/12120 [==============================] - 1s 51us/step - loss: 0.8696 - accuracy: 0.6984 - val_loss: 1.2167 - val_accuracy: 0.5593\n",
      "Epoch 400/500\n",
      "12120/12120 [==============================] - 1s 51us/step - loss: 0.8696 - accuracy: 0.6979 - val_loss: 1.2323 - val_accuracy: 0.5620\n",
      "Epoch 401/500\n",
      "12120/12120 [==============================] - 1s 55us/step - loss: 0.8842 - accuracy: 0.6949 - val_loss: 1.2033 - val_accuracy: 0.5567\n",
      "Epoch 402/500\n",
      "12120/12120 [==============================] - 1s 50us/step - loss: 0.8681 - accuracy: 0.6993 - val_loss: 1.0797 - val_accuracy: 0.5993\n",
      "Epoch 403/500\n",
      "12120/12120 [==============================] - 1s 50us/step - loss: 0.8700 - accuracy: 0.7011 - val_loss: 1.1349 - val_accuracy: 0.5727\n",
      "Epoch 404/500\n",
      "12120/12120 [==============================] - 1s 54us/step - loss: 0.8751 - accuracy: 0.6958 - val_loss: 1.2187 - val_accuracy: 0.5083\n",
      "Epoch 405/500\n",
      "12120/12120 [==============================] - 1s 54us/step - loss: 0.8681 - accuracy: 0.7017 - val_loss: 1.1695 - val_accuracy: 0.5610\n",
      "Epoch 406/500\n",
      "12120/12120 [==============================] - 1s 53us/step - loss: 0.8692 - accuracy: 0.6986 - val_loss: 1.0435 - val_accuracy: 0.5923\n",
      "Epoch 407/500\n",
      "12120/12120 [==============================] - 1s 54us/step - loss: 0.8709 - accuracy: 0.6993 - val_loss: 1.1804 - val_accuracy: 0.5547\n",
      "Epoch 408/500\n",
      "12120/12120 [==============================] - 1s 50us/step - loss: 0.8781 - accuracy: 0.6936 - val_loss: 1.1309 - val_accuracy: 0.5733\n",
      "Epoch 409/500\n",
      "12120/12120 [==============================] - 1s 52us/step - loss: 0.8803 - accuracy: 0.6931 - val_loss: 1.1583 - val_accuracy: 0.5667\n",
      "Epoch 410/500\n",
      "12120/12120 [==============================] - 1s 50us/step - loss: 0.8586 - accuracy: 0.7018 - val_loss: 1.0517 - val_accuracy: 0.5920\n",
      "Epoch 411/500\n",
      "12120/12120 [==============================] - 1s 51us/step - loss: 0.8777 - accuracy: 0.6939 - val_loss: 1.1922 - val_accuracy: 0.5450\n",
      "Epoch 412/500\n",
      "12120/12120 [==============================] - 1s 51us/step - loss: 0.8612 - accuracy: 0.6991 - val_loss: 1.1030 - val_accuracy: 0.5713\n",
      "Epoch 413/500\n",
      "12120/12120 [==============================] - 1s 52us/step - loss: 0.8684 - accuracy: 0.6988 - val_loss: 1.1629 - val_accuracy: 0.5703\n",
      "Epoch 414/500\n",
      "12120/12120 [==============================] - 1s 55us/step - loss: 0.8744 - accuracy: 0.6918 - val_loss: 1.0825 - val_accuracy: 0.5870 0s - loss: 0.8767 - accuracy: \n",
      "Epoch 415/500\n",
      "12120/12120 [==============================] - 1s 50us/step - loss: 0.8675 - accuracy: 0.6982 - val_loss: 1.1922 - val_accuracy: 0.5640\n",
      "Epoch 416/500\n",
      "12120/12120 [==============================] - 1s 51us/step - loss: 0.8634 - accuracy: 0.6981 - val_loss: 1.5327 - val_accuracy: 0.4603\n",
      "Epoch 417/500\n",
      "12120/12120 [==============================] - 1s 50us/step - loss: 0.8684 - accuracy: 0.6941 - val_loss: 1.2404 - val_accuracy: 0.5000\n",
      "Epoch 418/500\n",
      "12120/12120 [==============================] - 1s 50us/step - loss: 0.8744 - accuracy: 0.6984 - val_loss: 1.1476 - val_accuracy: 0.5737\n",
      "Epoch 419/500\n",
      "12120/12120 [==============================] - 1s 51us/step - loss: 0.8743 - accuracy: 0.6955 - val_loss: 1.0846 - val_accuracy: 0.5940\n",
      "Epoch 420/500\n",
      "12120/12120 [==============================] - 1s 52us/step - loss: 0.8750 - accuracy: 0.6996 - val_loss: 1.2250 - val_accuracy: 0.5457\n",
      "Epoch 421/500\n",
      "12120/12120 [==============================] - 1s 51us/step - loss: 0.8617 - accuracy: 0.7045 - val_loss: 1.0850 - val_accuracy: 0.5640\n",
      "Epoch 422/500\n",
      "12120/12120 [==============================] - 1s 51us/step - loss: 0.8720 - accuracy: 0.6940 - val_loss: 1.0563 - val_accuracy: 0.5563\n",
      "Epoch 423/500\n",
      "12120/12120 [==============================] - 1s 51us/step - loss: 0.8694 - accuracy: 0.6986 - val_loss: 1.1083 - val_accuracy: 0.5633\n",
      "Epoch 424/500\n",
      "12120/12120 [==============================] - 1s 52us/step - loss: 0.8611 - accuracy: 0.7031 - val_loss: 1.4418 - val_accuracy: 0.4880\n",
      "Epoch 425/500\n",
      "12120/12120 [==============================] - 1s 50us/step - loss: 0.8736 - accuracy: 0.6980 - val_loss: 1.1181 - val_accuracy: 0.5827\n",
      "Epoch 426/500\n",
      "12120/12120 [==============================] - 1s 50us/step - loss: 0.8685 - accuracy: 0.6966 - val_loss: 1.4720 - val_accuracy: 0.4847\n",
      "Epoch 427/500\n",
      "12120/12120 [==============================] - 1s 50us/step - loss: 0.8712 - accuracy: 0.6947 - val_loss: 1.0807 - val_accuracy: 0.6003\n",
      "Epoch 428/500\n",
      "12120/12120 [==============================] - 1s 49us/step - loss: 0.8544 - accuracy: 0.7064 - val_loss: 1.1170 - val_accuracy: 0.5747\n",
      "Epoch 429/500\n",
      "12120/12120 [==============================] - 1s 52us/step - loss: 0.8617 - accuracy: 0.7021 - val_loss: 1.1083 - val_accuracy: 0.5740\n",
      "Epoch 430/500\n",
      "12120/12120 [==============================] - 1s 52us/step - loss: 0.8658 - accuracy: 0.7000 - val_loss: 1.1134 - val_accuracy: 0.5817\n",
      "Epoch 431/500\n",
      "12120/12120 [==============================] - 1s 53us/step - loss: 0.8617 - accuracy: 0.7007 - val_loss: 1.1161 - val_accuracy: 0.5640\n",
      "Epoch 432/500\n",
      "12120/12120 [==============================] - 1s 61us/step - loss: 0.8661 - accuracy: 0.7010 - val_loss: 1.1112 - val_accuracy: 0.5833\n",
      "Epoch 433/500\n",
      "12120/12120 [==============================] - 1s 51us/step - loss: 0.8763 - accuracy: 0.6941 - val_loss: 1.1132 - val_accuracy: 0.5840\n",
      "Epoch 434/500\n",
      "12120/12120 [==============================] - 1s 50us/step - loss: 0.8611 - accuracy: 0.7050 - val_loss: 1.0914 - val_accuracy: 0.5713\n",
      "Epoch 435/500\n",
      "12120/12120 [==============================] - 1s 49us/step - loss: 0.8623 - accuracy: 0.7007 - val_loss: 1.1169 - val_accuracy: 0.5657\n",
      "Epoch 436/500\n",
      "12120/12120 [==============================] - 1s 51us/step - loss: 0.8702 - accuracy: 0.6939 - val_loss: 1.3004 - val_accuracy: 0.5223\n",
      "Epoch 437/500\n",
      "12120/12120 [==============================] - 1s 50us/step - loss: 0.8568 - accuracy: 0.7036 - val_loss: 1.1586 - val_accuracy: 0.5183\n",
      "Epoch 438/500\n",
      "12120/12120 [==============================] - 1s 51us/step - loss: 0.8676 - accuracy: 0.7008 - val_loss: 1.1088 - val_accuracy: 0.5507\n",
      "Epoch 439/500\n",
      "12120/12120 [==============================] - 1s 51us/step - loss: 0.8641 - accuracy: 0.6987 - val_loss: 1.1063 - val_accuracy: 0.5773\n",
      "Epoch 440/500\n",
      "12120/12120 [==============================] - 1s 51us/step - loss: 0.8628 - accuracy: 0.7045 - val_loss: 1.1312 - val_accuracy: 0.5847\n",
      "Epoch 441/500\n",
      "12120/12120 [==============================] - 1s 51us/step - loss: 0.8747 - accuracy: 0.6989 - val_loss: 1.0935 - val_accuracy: 0.5787\n",
      "Epoch 442/500\n",
      "12120/12120 [==============================] - 1s 50us/step - loss: 0.8531 - accuracy: 0.7046 - val_loss: 1.0507 - val_accuracy: 0.5730\n",
      "Epoch 443/500\n",
      "12120/12120 [==============================] - 1s 50us/step - loss: 0.8621 - accuracy: 0.6950 - val_loss: 1.0224 - val_accuracy: 0.5870\n",
      "Epoch 444/500\n",
      "12120/12120 [==============================] - 1s 51us/step - loss: 0.8579 - accuracy: 0.6999 - val_loss: 1.0289 - val_accuracy: 0.6030\n",
      "Epoch 445/500\n",
      "12120/12120 [==============================] - 1s 52us/step - loss: 0.8524 - accuracy: 0.7052 - val_loss: 1.2359 - val_accuracy: 0.5437\n",
      "Epoch 446/500\n",
      "12120/12120 [==============================] - 1s 50us/step - loss: 0.8714 - accuracy: 0.6978 - val_loss: 1.1683 - val_accuracy: 0.5560\n",
      "Epoch 447/500\n",
      "12120/12120 [==============================] - 1s 50us/step - loss: 0.8701 - accuracy: 0.6998 - val_loss: 1.3770 - val_accuracy: 0.4973\n",
      "Epoch 448/500\n",
      "12120/12120 [==============================] - 1s 51us/step - loss: 0.8651 - accuracy: 0.7009 - val_loss: 1.0680 - val_accuracy: 0.5740\n",
      "Epoch 449/500\n",
      "12120/12120 [==============================] - 1s 51us/step - loss: 0.8615 - accuracy: 0.6989 - val_loss: 1.0813 - val_accuracy: 0.5910\n",
      "Epoch 450/500\n",
      "12120/12120 [==============================] - 1s 54us/step - loss: 0.8576 - accuracy: 0.7002 - val_loss: 1.0984 - val_accuracy: 0.5717\n",
      "Epoch 451/500\n",
      "12120/12120 [==============================] - 1s 51us/step - loss: 0.8612 - accuracy: 0.6960 - val_loss: 1.3309 - val_accuracy: 0.5063\n",
      "Epoch 452/500\n",
      "12120/12120 [==============================] - 1s 50us/step - loss: 0.8494 - accuracy: 0.7050 - val_loss: 1.0447 - val_accuracy: 0.5860\n",
      "Epoch 453/500\n",
      "12120/12120 [==============================] - 1s 50us/step - loss: 0.8605 - accuracy: 0.6959 - val_loss: 1.2717 - val_accuracy: 0.5513\n",
      "Epoch 454/500\n",
      "12120/12120 [==============================] - 1s 51us/step - loss: 0.8733 - accuracy: 0.6974 - val_loss: 1.1301 - val_accuracy: 0.5753\n",
      "Epoch 455/500\n",
      "12120/12120 [==============================] - 1s 55us/step - loss: 0.8526 - accuracy: 0.7082 - val_loss: 1.0853 - val_accuracy: 0.5970\n",
      "Epoch 456/500\n",
      "12120/12120 [==============================] - 1s 52us/step - loss: 0.8648 - accuracy: 0.7001 - val_loss: 1.0781 - val_accuracy: 0.5893\n",
      "Epoch 457/500\n",
      "12120/12120 [==============================] - 1s 53us/step - loss: 0.8502 - accuracy: 0.7095 - val_loss: 1.3435 - val_accuracy: 0.5203\n",
      "Epoch 458/500\n",
      "12120/12120 [==============================] - 1s 51us/step - loss: 0.8554 - accuracy: 0.7054 - val_loss: 1.6558 - val_accuracy: 0.4517\n",
      "Epoch 459/500\n",
      "12120/12120 [==============================] - 1s 50us/step - loss: 0.8612 - accuracy: 0.7039 - val_loss: 1.0398 - val_accuracy: 0.5983\n",
      "Epoch 460/500\n",
      "12120/12120 [==============================] - 1s 51us/step - loss: 0.8557 - accuracy: 0.7007 - val_loss: 1.2624 - val_accuracy: 0.5337\n",
      "Epoch 461/500\n",
      "12120/12120 [==============================] - 1s 50us/step - loss: 0.8555 - accuracy: 0.7078 - val_loss: 1.0297 - val_accuracy: 0.6043\n",
      "Epoch 462/500\n",
      "12120/12120 [==============================] - 1s 51us/step - loss: 0.8644 - accuracy: 0.6974 - val_loss: 1.0633 - val_accuracy: 0.5687\n",
      "Epoch 463/500\n",
      "12120/12120 [==============================] - 1s 50us/step - loss: 0.8489 - accuracy: 0.7061 - val_loss: 1.3277 - val_accuracy: 0.5107\n",
      "Epoch 464/500\n",
      "12120/12120 [==============================] - 1s 50us/step - loss: 0.8722 - accuracy: 0.6929 - val_loss: 1.1502 - val_accuracy: 0.5530\n",
      "Epoch 465/500\n",
      "12120/12120 [==============================] - 1s 50us/step - loss: 0.8560 - accuracy: 0.6992 - val_loss: 1.1436 - val_accuracy: 0.5703\n",
      "Epoch 466/500\n",
      "12120/12120 [==============================] - 1s 52us/step - loss: 0.8673 - accuracy: 0.7005 - val_loss: 1.1489 - val_accuracy: 0.5637\n",
      "Epoch 467/500\n",
      "12120/12120 [==============================] - 1s 50us/step - loss: 0.8498 - accuracy: 0.7053 - val_loss: 1.2479 - val_accuracy: 0.5153\n",
      "Epoch 468/500\n",
      "12120/12120 [==============================] - 1s 51us/step - loss: 0.8639 - accuracy: 0.7005 - val_loss: 1.1023 - val_accuracy: 0.5743\n",
      "Epoch 469/500\n",
      "12120/12120 [==============================] - 1s 53us/step - loss: 0.8442 - accuracy: 0.7068 - val_loss: 1.0581 - val_accuracy: 0.6073\n",
      "Epoch 470/500\n",
      "12120/12120 [==============================] - 1s 50us/step - loss: 0.8414 - accuracy: 0.7096 - val_loss: 1.2546 - val_accuracy: 0.5343\n",
      "Epoch 471/500\n",
      "12120/12120 [==============================] - 1s 50us/step - loss: 0.8629 - accuracy: 0.7003 - val_loss: 1.2016 - val_accuracy: 0.5633\n",
      "Epoch 472/500\n",
      "12120/12120 [==============================] - 1s 50us/step - loss: 0.8546 - accuracy: 0.7050 - val_loss: 1.3276 - val_accuracy: 0.5137\n",
      "Epoch 473/500\n",
      "12120/12120 [==============================] - 1s 51us/step - loss: 0.8659 - accuracy: 0.6952 - val_loss: 1.1419 - val_accuracy: 0.5617\n",
      "Epoch 474/500\n",
      "12120/12120 [==============================] - 1s 51us/step - loss: 0.8430 - accuracy: 0.7095 - val_loss: 1.0367 - val_accuracy: 0.5860\n",
      "Epoch 475/500\n",
      "12120/12120 [==============================] - 1s 50us/step - loss: 0.8455 - accuracy: 0.7035 - val_loss: 1.3203 - val_accuracy: 0.5273\n",
      "Epoch 476/500\n",
      "12120/12120 [==============================] - 1s 50us/step - loss: 0.8570 - accuracy: 0.6995 - val_loss: 1.2211 - val_accuracy: 0.5330\n",
      "Epoch 477/500\n",
      "12120/12120 [==============================] - 1s 50us/step - loss: 0.8462 - accuracy: 0.7068 - val_loss: 1.2551 - val_accuracy: 0.5267\n",
      "Epoch 478/500\n",
      "12120/12120 [==============================] - 1s 50us/step - loss: 0.8530 - accuracy: 0.7041 - val_loss: 1.2149 - val_accuracy: 0.5520\n",
      "Epoch 479/500\n",
      "12120/12120 [==============================] - 1s 50us/step - loss: 0.8578 - accuracy: 0.7017 - val_loss: 1.2630 - val_accuracy: 0.5133\n",
      "Epoch 480/500\n",
      "12120/12120 [==============================] - 1s 51us/step - loss: 0.8467 - accuracy: 0.7026 - val_loss: 1.1133 - val_accuracy: 0.5733\n",
      "Epoch 481/500\n",
      "12120/12120 [==============================] - 1s 51us/step - loss: 0.8508 - accuracy: 0.7038 - val_loss: 1.3201 - val_accuracy: 0.5107\n",
      "Epoch 482/500\n",
      "12120/12120 [==============================] - 1s 54us/step - loss: 0.8501 - accuracy: 0.7028 - val_loss: 1.1566 - val_accuracy: 0.5833\n",
      "Epoch 483/500\n",
      "12120/12120 [==============================] - 1s 52us/step - loss: 0.8596 - accuracy: 0.7044 - val_loss: 1.3168 - val_accuracy: 0.5220\n",
      "Epoch 484/500\n",
      "12120/12120 [==============================] - 1s 48us/step - loss: 0.8534 - accuracy: 0.7009 - val_loss: 1.3474 - val_accuracy: 0.5343\n",
      "Epoch 485/500\n",
      "12120/12120 [==============================] - 1s 50us/step - loss: 0.8487 - accuracy: 0.7095 - val_loss: 1.2319 - val_accuracy: 0.5573\n",
      "Epoch 486/500\n",
      "12120/12120 [==============================] - 1s 49us/step - loss: 0.8612 - accuracy: 0.7002 - val_loss: 1.4186 - val_accuracy: 0.5060\n",
      "Epoch 487/500\n",
      "12120/12120 [==============================] - 1s 57us/step - loss: 0.8507 - accuracy: 0.7070 - val_loss: 1.1104 - val_accuracy: 0.6080\n",
      "Epoch 488/500\n",
      "12120/12120 [==============================] - 1s 51us/step - loss: 0.8447 - accuracy: 0.7092 - val_loss: 1.3585 - val_accuracy: 0.5080\n",
      "Epoch 489/500\n",
      "12120/12120 [==============================] - 1s 51us/step - loss: 0.8406 - accuracy: 0.7073 - val_loss: 1.1266 - val_accuracy: 0.5800\n",
      "Epoch 490/500\n",
      "12120/12120 [==============================] - 1s 50us/step - loss: 0.8479 - accuracy: 0.7059 - val_loss: 1.1004 - val_accuracy: 0.5627\n"
     ]
    },
    {
     "name": "stdout",
     "output_type": "stream",
     "text": [
      "Epoch 491/500\n",
      "12120/12120 [==============================] - 1s 53us/step - loss: 0.8485 - accuracy: 0.7028 - val_loss: 1.3050 - val_accuracy: 0.5253\n",
      "Epoch 492/500\n",
      "12120/12120 [==============================] - 1s 52us/step - loss: 0.8631 - accuracy: 0.7010 - val_loss: 1.2027 - val_accuracy: 0.5460\n",
      "Epoch 493/500\n",
      "12120/12120 [==============================] - 1s 52us/step - loss: 0.8493 - accuracy: 0.7024 - val_loss: 1.0994 - val_accuracy: 0.5813\n",
      "Epoch 494/500\n",
      "12120/12120 [==============================] - 1s 53us/step - loss: 0.8522 - accuracy: 0.7040 - val_loss: 1.1562 - val_accuracy: 0.5730\n",
      "Epoch 495/500\n",
      "12120/12120 [==============================] - 1s 52us/step - loss: 0.8494 - accuracy: 0.7061 - val_loss: 1.1415 - val_accuracy: 0.5957\n",
      "Epoch 496/500\n",
      "12120/12120 [==============================] - 1s 50us/step - loss: 0.8471 - accuracy: 0.7027 - val_loss: 1.3806 - val_accuracy: 0.5187\n",
      "Epoch 497/500\n",
      "12120/12120 [==============================] - 1s 52us/step - loss: 0.8525 - accuracy: 0.7081 - val_loss: 1.4483 - val_accuracy: 0.4863\n",
      "Epoch 498/500\n",
      "12120/12120 [==============================] - 1s 50us/step - loss: 0.8425 - accuracy: 0.7090 - val_loss: 1.0712 - val_accuracy: 0.5943\n",
      "Epoch 499/500\n",
      "12120/12120 [==============================] - 1s 51us/step - loss: 0.8575 - accuracy: 0.7074 - val_loss: 1.3000 - val_accuracy: 0.5357\n",
      "Epoch 500/500\n",
      "12120/12120 [==============================] - 1s 50us/step - loss: 0.8514 - accuracy: 0.7043 - val_loss: 1.0287 - val_accuracy: 0.5943\n"
     ]
    },
    {
     "data": {
      "image/png": "[encoded data removed]",
      "text/plain": [
       "<Figure size 432x288 with 1 Axes>"
      ]
     },
     "metadata": {
      "needs_background": "light"
     },
     "output_type": "display_data"
    }
   ],
   "source": [
    "h2 = fit_eval(r = 3000, m = nn2, epochs = 500, batch_size = 300, v=1)"
   ]
  },
  {
   "cell_type": "code",
   "execution_count": 128,
   "metadata": {},
   "outputs": [],
   "source": [
    "y_classes = nn2.predict(X_test).argmax(axis=-1)"
   ]
  },
  {
   "cell_type": "code",
   "execution_count": 131,
   "metadata": {},
   "outputs": [
    {
     "data": {
      "text/plain": [
       "array([[0.00000000e+00, 5.67448512e-02, 9.43255186e-01, ...,\n",
       "        1.00065787e-08, 4.76006066e-38, 7.93031487e-17],\n",
       "       [0.00000000e+00, 6.51020035e-02, 9.34898019e-01, ...,\n",
       "        6.47314291e-09, 1.93301388e-38, 4.29935362e-17],\n",
       "       [0.00000000e+00, 2.17219554e-02, 9.78277922e-01, ...,\n",
       "        7.33216510e-08, 1.34314507e-36, 3.48729597e-14],\n",
       "       ...,\n",
       "       [0.00000000e+00, 1.39799169e-13, 4.25668494e-11, ...,\n",
       "        4.26092077e-13, 5.99502586e-02, 1.37559485e-26],\n",
       "       [0.00000000e+00, 3.11986929e-11, 4.16674428e-09, ...,\n",
       "        1.18741090e-13, 2.99272537e-01, 5.07670943e-25],\n",
       "       [0.00000000e+00, 1.04247784e-10, 2.46331631e-08, ...,\n",
       "        4.96170271e-13, 3.25660408e-01, 3.93718466e-24]], dtype=float32)"
      ]
     },
     "execution_count": 131,
     "metadata": {},
     "output_type": "execute_result"
    }
   ],
   "source": [
    "nn2.predict(X_test)"
   ]
  },
  {
   "cell_type": "code",
   "execution_count": 129,
   "metadata": {},
   "outputs": [],
   "source": [
    "output = pd.DataFrame({'Id': Id,\n",
    "                       'Cover_Type': y_classes})\n",
    "output.to_csv('nn1_sub'+'.csv', index=False)"
   ]
  },
  {
   "cell_type": "code",
   "execution_count": 121,
   "metadata": {},
   "outputs": [
    {
     "data": {
      "text/plain": [
       "75"
      ]
     },
     "execution_count": 121,
     "metadata": {},
     "output_type": "execute_result"
    }
   ],
   "source": [
    "np.argmin(np.array(h2.history['val_loss']))"
   ]
  },
  {
   "cell_type": "markdown",
   "metadata": {},
   "source": [
    "##### k-fold CV on keras"
   ]
  },
  {
   "cell_type": "code",
   "execution_count": 396,
   "metadata": {},
   "outputs": [
    {
     "data": {
      "text/plain": [
       "[(array([    0,     1,     3, ..., 15116, 15118, 15119]),\n",
       "  array([    2,     5,     9, ..., 15089, 15090, 15117])),\n",
       " (array([    0,     2,     3, ..., 15115, 15117, 15119]),\n",
       "  array([    1,     6,     7, ..., 15112, 15116, 15118])),\n",
       " (array([    0,     1,     2, ..., 15116, 15117, 15118]),\n",
       "  array([   10,    20,    21, ..., 15113, 15114, 15119])),\n",
       " (array([    1,     2,     4, ..., 15117, 15118, 15119]),\n",
       "  array([    0,     3,    13, ..., 15099, 15109, 15115])),\n",
       " (array([    0,     1,     2, ..., 15117, 15118, 15119]),\n",
       "  array([    4,    22,    27, ..., 15101, 15104, 15110]))]"
      ]
     },
     "execution_count": 396,
     "metadata": {},
     "output_type": "execute_result"
    }
   ],
   "source": [
    "list(kfold.split(X_train, y))"
   ]
  },
  {
   "cell_type": "code",
   "execution_count": 64,
   "metadata": {},
   "outputs": [],
   "source": [
    "from sklearn.model_selection import StratifiedKFold\n",
    "\n",
    "def kfold_nn(m, X_t, y, epochs, batch_size, v, k):\n",
    "    \n",
    "    kfold = StratifiedKFold(n_splits=k, shuffle=True, random_state=SEED)\n",
    "    cvscores = dict()\n",
    "    kk=0\n",
    "    for a, b in kfold.split(X_t, y):\n",
    "\n",
    "        history = m.fit(X_t.iloc[a,:], y_dummy[a], epochs=epochs, \n",
    "                        batch_size=batch_size, verbose=v, validation_data = (X_t.iloc[b,:], y_dummy[b]))\n",
    "\n",
    "        kk+=1\n",
    "        cvscores[kk] = history\n",
    "        print(f'Done with fold {kk}')\n",
    "    return cvscores\n",
    "        "
   ]
  },
  {
   "cell_type": "code",
   "execution_count": 85,
   "metadata": {},
   "outputs": [
    {
     "name": "stdout",
     "output_type": "stream",
     "text": [
      "Done with fold 1\n",
      "Done with fold 2\n"
     ]
    }
   ],
   "source": [
    "nn_cv_results = kfold_nn(nn2, X_t = X_train, y = y, epochs = 200, batch_size = 200,v = 0, k = 5)"
   ]
  },
  {
   "cell_type": "code",
   "execution_count": 90,
   "metadata": {},
   "outputs": [
    {
     "data": {
      "text/plain": [
       "[0.547354519367218,\n",
       " 0.5421957969665527,\n",
       " 0.5740740895271301,\n",
       " 0.2481481432914734,\n",
       " 0.46759259700775146]"
      ]
     },
     "execution_count": 90,
     "metadata": {},
     "output_type": "execute_result"
    }
   ],
   "source": [
    "nn_cv_results[1].history['val_accuracy']"
   ]
  },
  {
   "cell_type": "code",
   "execution_count": 418,
   "metadata": {},
   "outputs": [
    {
     "name": "stdout",
     "output_type": "stream",
     "text": [
      "14.95% (+/- 10.12%)\n"
     ]
    }
   ],
   "source": [
    "print(\"%.2f%% (+/- %.2f%%)\" % (np.mean(cvscores), np.std(cvscores)))"
   ]
  }
 ],
 "metadata": {
  "kernelspec": {
   "display_name": "Python 3",
   "language": "python",
   "name": "python3"
  },
  "language_info": {
   "codemirror_mode": {
    "name": "ipython",
    "version": 3
   },
   "file_extension": ".py",
   "mimetype": "text/x-python",
   "name": "python",
   "nbconvert_exporter": "python",
   "pygments_lexer": "ipython3",
   "version": "3.7.3"
  }
 },
 "nbformat": 4,
 "nbformat_minor": 2
}
